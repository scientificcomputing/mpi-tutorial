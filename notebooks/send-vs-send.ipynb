{
 "cells": [
  {
   "cell_type": "markdown",
   "id": "6d5c510c-7f09-4868-9e9e-145e6a10625b",
   "metadata": {},
   "source": [
    "# Performance measurement and comm.send vs comm.Send\n",
    "\n",
    "When we write parallel code, performance is often a concern.\n",
    "Measuring performance of parallel code can be challenging:\n",
    "\n",
    "- where do we measure?\n",
    "- what do we measure?\n",
    "- how do we make sense of the numbers we've gathered?\n",
    "\n",
    "\n",
    "We are going to use the case study of when/why to use mpi4py's `comm.Send` vs `comm.send` and combine it with tools for profiling and plotting.\n",
    "\n",
    "First, our usual boilerplate to get the cluster going:"
   ]
  },
  {
   "cell_type": "code",
   "execution_count": 1,
   "id": "cb38b8dd-07b7-4f10-8083-78b61b932e51",
   "metadata": {
    "tags": []
   },
   "outputs": [],
   "source": [
    "import logging\n",
    "import ipyparallel as ipp\n",
    "\n",
    "# create a cluster\n",
    "cluster = ipp.Cluster(\n",
    "    engines=\"mpi\",\n",
    "    n=2,\n",
    "    log_level=logging.WARNING,\n",
    ")\n",
    "await cluster.start_cluster()\n",
    "rc = await cluster.connect_client()\n",
    "rc.wait_for_engines(interactive=False)\n",
    "rc.activate();"
   ]
  },
  {
   "cell_type": "code",
   "execution_count": 2,
   "id": "8256e724-14e6-4a1d-b53e-c3be7de1dd10",
   "metadata": {
    "tags": []
   },
   "outputs": [
    {
     "data": {
      "text/plain": [
       "[stdout:0] I am rank 0 / 2\n"
      ]
     },
     "metadata": {},
     "output_type": "display_data"
    },
    {
     "data": {
      "text/plain": [
       "[stdout:1] I am rank 1 / 2\n"
      ]
     },
     "metadata": {},
     "output_type": "display_data"
    }
   ],
   "source": [
    "%%px\n",
    "# Find out rank, size\n",
    "from mpi4py import MPI\n",
    "\n",
    "comm = MPI.COMM_WORLD\n",
    "rank = comm.rank\n",
    "size = comm.size\n",
    "\n",
    "print(f\"I am rank {rank} / {size}\")"
   ]
  },
  {
   "cell_type": "markdown",
   "id": "f06ed0ef-a9b4-4778-9e1a-6b69345c73f5",
   "metadata": {},
   "source": [
    "We are going to define some functions that implement ping-pong communication:\n",
    "\n",
    "- node 0 sends a message to node 1\n",
    "- node 1 receives it and sends it right back\n",
    "- node 0 receives the reply"
   ]
  },
  {
   "cell_type": "code",
   "execution_count": 3,
   "id": "801de61f-4b6c-410e-888d-abbb7981c382",
   "metadata": {
    "tags": []
   },
   "outputs": [],
   "source": [
    "%%px\n",
    "\n",
    "import time\n",
    "\n",
    "import numpy as np\n",
    "\n",
    "\n",
    "def ping_pong_send(arr):\n",
    "    \"\"\"ping pong implementation with lowercase 'send' and 'recv'\"\"\"\n",
    "    if rank == 0:\n",
    "        comm.send(arr, dest=1)\n",
    "        comm.recv(source=1)\n",
    "    elif rank == 1:\n",
    "        comm.recv(source=0)\n",
    "        comm.send(arr, dest=0)\n",
    "    \n",
    "def ping_pong_Send(arr):\n",
    "    \"\"\"ping pong implementation with pre-allocated 'Send' and 'Recv'\"\"\"\n",
    "    if rank == 0:\n",
    "        comm.Send(arr, dest=1)\n",
    "        comm.Recv(arr, source=1)\n",
    "    elif rank == 1:\n",
    "        comm.Recv(arr, source=0)\n",
    "        comm.Send(arr, dest=0)\n",
    "\n",
    "def ping_pong_repeat(size, iterations, kind=\"send\", dtype=np.float64):\n",
    "    \"\"\"Repeat ping_pong a number of times\"\"\"\n",
    "    if rank == 0:\n",
    "        arr = np.random.random(size).astype(dtype)\n",
    "    else:\n",
    "        arr = np.empty(size, dtype=dtype)\n",
    "    \n",
    "    if kind == \"send\":\n",
    "        f = ping_pong_send\n",
    "    elif kind == \"Send\":\n",
    "        f = ping_pong_Send\n",
    "    else:\n",
    "        raise ValueError(f\"{kind=}\")\n",
    "    \n",
    "    for i in range(iterations):\n",
    "        f(arr)"
   ]
  },
  {
   "cell_type": "markdown",
   "id": "08c64998-3f4e-4f51-a1a2-067936ced86a",
   "metadata": {},
   "source": [
    "`measure_one` takes a given size and arguments, and runs a single measurement.\n",
    "This samples the call a number of times (as done in `timeit`).\n",
    "For convenience, a short measurement is run first, to determine how many samples we could take in about one second."
   ]
  },
  {
   "cell_type": "code",
   "execution_count": 4,
   "id": "5677ec53-4272-4f8d-aac2-a23d67107a25",
   "metadata": {
    "tags": []
   },
   "outputs": [],
   "source": [
    "def measure_one(size, target_time=1, **kwargs):\n",
    "    \"\"\"Runs a single measurement\n",
    "    \n",
    "    Given a size and target measurement time,\n",
    "    estimate how many iterations are needed to take target_time\n",
    "    Then run with that many iterations, returning the average time per call.\n",
    "    \"\"\"\n",
    "    comm.Barrier()\n",
    "    \n",
    "    tic = time.perf_counter()\n",
    "    ping_pong_repeat(size, 10, **kwargs)\n",
    "    toc = time.perf_counter()\n",
    "    # initial measurement to set iterations to measure\n",
    "    if rank == 0:\n",
    "        duration = (toc-tic)\n",
    "        scale = target_time / duration\n",
    "        if duration > target_time:\n",
    "            iterations = 0\n",
    "        else:\n",
    "            iterations = int(10 * scale)\n",
    "        comm.send(iterations, dest=1)\n",
    "    elif rank == 1:\n",
    "        iterations = comm.recv(source=0)\n",
    "\n",
    "    if iterations:\n",
    "        time.sleep(0.25)\n",
    "        comm.Barrier()\n",
    "        tic = time.perf_counter()\n",
    "        ping_pong_repeat(size, iterations, **kwargs)\n",
    "        toc = time.perf_counter()\n",
    "        comm.Barrier()\n",
    "        per_call = (toc - tic) / iterations\n",
    "    else:\n",
    "        # initial measurement exceeded threshold, use it\n",
    "        per_call = (toc - tic) / 10\n",
    "    return per_call"
   ]
  },
  {
   "cell_type": "markdown",
   "id": "8f9c1571-27be-4c35-836b-837b372a4047",
   "metadata": {},
   "source": [
    "We could do something similar with [timeit].\n",
    "Since timeit uses measurement to pick the number of iterations (like we do above on rank 0),\n",
    "we want to avoid problems where different engines pick different iteration counts,\n",
    "so we have to specify the number of iterations (`-n`).\n",
    "\n",
    "Because our engines are IPython, that means we can use line `%magics` and cell `%%magics` inside `%%px`.\n",
    "\n",
    "[timeit]: https://ipython.readthedocs.io/en/stable/interactive/magics.html#magic-timeit"
   ]
  },
  {
   "cell_type": "code",
   "execution_count": 5,
   "id": "6cc1008f-442e-468a-b1a6-afa4bd9c11a0",
   "metadata": {
    "tags": []
   },
   "outputs": [
    {
     "data": {
      "text/plain": [
       "[stdout:1] send\n",
       "545 µs ± 6.64 µs per loop (mean ± std. dev. of 7 runs, 1,000 loops each)\n",
       "Send\n",
       "245 µs ± 3.82 µs per loop (mean ± std. dev. of 7 runs, 10,000 loops each)\n"
      ]
     },
     "metadata": {},
     "output_type": "display_data"
    },
    {
     "data": {
      "text/plain": [
       "[stdout:0] send\n",
       "545 µs ± 6.37 µs per loop (mean ± std. dev. of 7 runs, 1,000 loops each)\n",
       "Send\n",
       "245 µs ± 3.82 µs per loop (mean ± std. dev. of 7 runs, 10,000 loops each)\n"
      ]
     },
     "metadata": {},
     "output_type": "display_data"
    },
    {
     "data": {
      "application/vnd.jupyter.widget-view+json": {
       "model_id": "795cb69359f24a94953cf5ded42ff525",
       "version_major": 2,
       "version_minor": 0
      },
      "text/plain": [
       "%px:   0%|          | 0/2 [00:00<?, ?tasks/s]"
      ]
     },
     "metadata": {},
     "output_type": "display_data"
    }
   ],
   "source": [
    "%%px\n",
    "arr = np.random.random(100_000)\n",
    "print(\"send\")\n",
    "%timeit -n 1_000 ping_pong_send(arr)\n",
    "print(\"Send\")\n",
    "%timeit -n 10_000 ping_pong_Send(arr)"
   ]
  },
  {
   "cell_type": "markdown",
   "id": "bca21c38-6317-43cf-b618-43af745fed82",
   "metadata": {},
   "source": [
    "We can collect data by running several measurements for:\n",
    "\n",
    "- several sizes from 1k to 1M elements\n",
    "- both implementations"
   ]
  },
  {
   "cell_type": "code",
   "execution_count": 6,
   "id": "037eaff7-3d8d-49fa-885c-ea5a4af0011f",
   "metadata": {
    "tags": []
   },
   "outputs": [
    {
     "data": {
      "application/vnd.jupyter.widget-view+json": {
       "model_id": "efeed8a95ffd4d00a8c0f899073cef03",
       "version_major": 2,
       "version_minor": 0
      },
      "text/plain": [
       "  0%|          | 0/21 [00:00<?, ?it/s]"
      ]
     },
     "metadata": {},
     "output_type": "display_data"
    }
   ],
   "source": [
    "import numpy as np\n",
    "\n",
    "results = []\n",
    "\n",
    "from tqdm.notebook import tqdm\n",
    "for size in tqdm(np.logspace(3, 6, 21).astype(int)):\n",
    "    for kind in (\"send\", \"Send\"):\n",
    "        per_call = rc[:].apply_sync(measure_one, size, kind=kind)\n",
    "        per_call = per_call[0]\n",
    "        calls_per_sec = 1 / per_call\n",
    "        results.append({\"kind\": kind, \"per_call\": per_call, \"size\": size})"
   ]
  },
  {
   "cell_type": "markdown",
   "id": "e95cefda-6987-4f7e-991a-e9ccdac52480",
   "metadata": {},
   "source": [
    "Now we have a `results` list of samples, which we can collect with pandas and plot with altair."
   ]
  },
  {
   "cell_type": "code",
   "execution_count": 7,
   "id": "8c7a5a5b-bfab-4bd8-a93b-6997761aab24",
   "metadata": {
    "tags": []
   },
   "outputs": [
    {
     "data": {
      "text/html": [
       "<div>\n",
       "<style scoped>\n",
       "    .dataframe tbody tr th:only-of-type {\n",
       "        vertical-align: middle;\n",
       "    }\n",
       "\n",
       "    .dataframe tbody tr th {\n",
       "        vertical-align: top;\n",
       "    }\n",
       "\n",
       "    .dataframe thead th {\n",
       "        text-align: right;\n",
       "    }\n",
       "</style>\n",
       "<table border=\"1\" class=\"dataframe\">\n",
       "  <thead>\n",
       "    <tr style=\"text-align: right;\">\n",
       "      <th></th>\n",
       "      <th>kind</th>\n",
       "      <th>per_call</th>\n",
       "      <th>size</th>\n",
       "    </tr>\n",
       "  </thead>\n",
       "  <tbody>\n",
       "    <tr>\n",
       "      <th>0</th>\n",
       "      <td>send</td>\n",
       "      <td>0.000058</td>\n",
       "      <td>1000</td>\n",
       "    </tr>\n",
       "    <tr>\n",
       "      <th>1</th>\n",
       "      <td>Send</td>\n",
       "      <td>0.000008</td>\n",
       "      <td>1000</td>\n",
       "    </tr>\n",
       "    <tr>\n",
       "      <th>2</th>\n",
       "      <td>send</td>\n",
       "      <td>0.000063</td>\n",
       "      <td>1412</td>\n",
       "    </tr>\n",
       "    <tr>\n",
       "      <th>3</th>\n",
       "      <td>Send</td>\n",
       "      <td>0.000010</td>\n",
       "      <td>1412</td>\n",
       "    </tr>\n",
       "    <tr>\n",
       "      <th>4</th>\n",
       "      <td>send</td>\n",
       "      <td>0.000068</td>\n",
       "      <td>1995</td>\n",
       "    </tr>\n",
       "  </tbody>\n",
       "</table>\n",
       "</div>"
      ],
      "text/plain": [
       "   kind  per_call  size\n",
       "0  send  0.000058  1000\n",
       "1  Send  0.000008  1000\n",
       "2  send  0.000063  1412\n",
       "3  Send  0.000010  1412\n",
       "4  send  0.000068  1995"
      ]
     },
     "execution_count": 7,
     "metadata": {},
     "output_type": "execute_result"
    }
   ],
   "source": [
    "import pandas as pd\n",
    "import altair as alt\n",
    "\n",
    "df = pd.DataFrame(results)\n",
    "df.head()"
   ]
  },
  {
   "cell_type": "markdown",
   "id": "fdd9b75b-6c77-4683-a751-eeb5fbbc5311",
   "metadata": {},
   "source": [
    "We can group them by n, kind to compare times:"
   ]
  },
  {
   "cell_type": "code",
   "execution_count": 8,
   "id": "7191a56d-6048-4e21-9ef7-94778bc14484",
   "metadata": {
    "tags": []
   },
   "outputs": [
    {
     "data": {
      "text/plain": [
       "size  kind\n",
       "1000  Send    0.000008\n",
       "      send    0.000058\n",
       "1412  Send    0.000010\n",
       "      send    0.000063\n",
       "1995  Send    0.000012\n",
       "      send    0.000068\n",
       "2818  Send    0.000016\n",
       "      send    0.000083\n",
       "3981  Send    0.000017\n",
       "      send    0.000083\n",
       "Name: per_call, dtype: float64"
      ]
     },
     "execution_count": 8,
     "metadata": {},
     "output_type": "execute_result"
    }
   ],
   "source": [
    "df.groupby([\"size\", \"kind\"]).per_call.first().head(10)"
   ]
  },
  {
   "cell_type": "markdown",
   "id": "a8d9433e-a640-4de8-999f-7e3faae81a56",
   "metadata": {},
   "source": [
    "Or see it more easily, plot the times per call with altair:"
   ]
  },
  {
   "cell_type": "code",
   "execution_count": 9,
   "id": "a331197b-490d-41e2-8240-1d8768d27268",
   "metadata": {
    "tags": []
   },
   "outputs": [
    {
     "data": {
      "text/html": [
       "\n",
       "<style>\n",
       "  #altair-viz-612b2785fe7d4b8b8bd5caa9fd83ae33.vega-embed {\n",
       "    width: 100%;\n",
       "    display: flex;\n",
       "  }\n",
       "\n",
       "  #altair-viz-612b2785fe7d4b8b8bd5caa9fd83ae33.vega-embed details,\n",
       "  #altair-viz-612b2785fe7d4b8b8bd5caa9fd83ae33.vega-embed details summary {\n",
       "    position: relative;\n",
       "  }\n",
       "</style>\n",
       "<div id=\"altair-viz-612b2785fe7d4b8b8bd5caa9fd83ae33\"></div>\n",
       "<script type=\"text/javascript\">\n",
       "  var VEGA_DEBUG = (typeof VEGA_DEBUG == \"undefined\") ? {} : VEGA_DEBUG;\n",
       "  (function(spec, embedOpt){\n",
       "    let outputDiv = document.currentScript.previousElementSibling;\n",
       "    if (outputDiv.id !== \"altair-viz-612b2785fe7d4b8b8bd5caa9fd83ae33\") {\n",
       "      outputDiv = document.getElementById(\"altair-viz-612b2785fe7d4b8b8bd5caa9fd83ae33\");\n",
       "    }\n",
       "    const paths = {\n",
       "      \"vega\": \"https://cdn.jsdelivr.net/npm/vega@5?noext\",\n",
       "      \"vega-lib\": \"https://cdn.jsdelivr.net/npm/vega-lib?noext\",\n",
       "      \"vega-lite\": \"https://cdn.jsdelivr.net/npm/vega-lite@5.8.0?noext\",\n",
       "      \"vega-embed\": \"https://cdn.jsdelivr.net/npm/vega-embed@6?noext\",\n",
       "    };\n",
       "\n",
       "    function maybeLoadScript(lib, version) {\n",
       "      var key = `${lib.replace(\"-\", \"\")}_version`;\n",
       "      return (VEGA_DEBUG[key] == version) ?\n",
       "        Promise.resolve(paths[lib]) :\n",
       "        new Promise(function(resolve, reject) {\n",
       "          var s = document.createElement('script');\n",
       "          document.getElementsByTagName(\"head\")[0].appendChild(s);\n",
       "          s.async = true;\n",
       "          s.onload = () => {\n",
       "            VEGA_DEBUG[key] = version;\n",
       "            return resolve(paths[lib]);\n",
       "          };\n",
       "          s.onerror = () => reject(`Error loading script: ${paths[lib]}`);\n",
       "          s.src = paths[lib];\n",
       "        });\n",
       "    }\n",
       "\n",
       "    function showError(err) {\n",
       "      outputDiv.innerHTML = `<div class=\"error\" style=\"color:red;\">${err}</div>`;\n",
       "      throw err;\n",
       "    }\n",
       "\n",
       "    function displayChart(vegaEmbed) {\n",
       "      vegaEmbed(outputDiv, spec, embedOpt)\n",
       "        .catch(err => showError(`Javascript Error: ${err.message}<br>This usually means there's a typo in your chart specification. See the javascript console for the full traceback.`));\n",
       "    }\n",
       "\n",
       "    if(typeof define === \"function\" && define.amd) {\n",
       "      requirejs.config({paths});\n",
       "      require([\"vega-embed\"], displayChart, err => showError(`Error loading script: ${err.message}`));\n",
       "    } else {\n",
       "      maybeLoadScript(\"vega\", \"5\")\n",
       "        .then(() => maybeLoadScript(\"vega-lite\", \"5.8.0\"))\n",
       "        .then(() => maybeLoadScript(\"vega-embed\", \"6\"))\n",
       "        .catch(showError)\n",
       "        .then(() => displayChart(vegaEmbed));\n",
       "    }\n",
       "  })({\"config\": {\"view\": {\"continuousWidth\": 300, \"continuousHeight\": 300}}, \"data\": {\"name\": \"data-4c4fc92e0e1a424bd3227b2c54273213\"}, \"mark\": {\"type\": \"line\"}, \"encoding\": {\"color\": {\"field\": \"kind\", \"type\": \"nominal\"}, \"x\": {\"field\": \"size\", \"scale\": {\"type\": \"log\"}, \"type\": \"quantitative\"}, \"y\": {\"field\": \"per_call\", \"scale\": {\"type\": \"log\"}, \"type\": \"quantitative\"}}, \"$schema\": \"https://vega.github.io/schema/vega-lite/v5.8.0.json\", \"datasets\": {\"data-4c4fc92e0e1a424bd3227b2c54273213\": [{\"kind\": \"send\", \"per_call\": 5.775506150274818e-05, \"size\": 1000}, {\"kind\": \"Send\", \"per_call\": 8.281185842745932e-06, \"size\": 1000}, {\"kind\": \"send\", \"per_call\": 6.328053811435435e-05, \"size\": 1412}, {\"kind\": \"Send\", \"per_call\": 9.508815068343479e-06, \"size\": 1412}, {\"kind\": \"send\", \"per_call\": 6.75969483644748e-05, \"size\": 1995}, {\"kind\": \"Send\", \"per_call\": 1.1758442144843051e-05, \"size\": 1995}, {\"kind\": \"send\", \"per_call\": 8.300558815722279e-05, \"size\": 2818}, {\"kind\": \"Send\", \"per_call\": 1.637751941812932e-05, \"size\": 2818}, {\"kind\": \"send\", \"per_call\": 8.281956860129583e-05, \"size\": 3981}, {\"kind\": \"Send\", \"per_call\": 1.690232344500721e-05, \"size\": 3981}, {\"kind\": \"send\", \"per_call\": 8.380267487183417e-05, \"size\": 5623}, {\"kind\": \"Send\", \"per_call\": 2.0582310722414074e-05, \"size\": 5623}, {\"kind\": \"send\", \"per_call\": 0.00010358554911099405, \"size\": 7943}, {\"kind\": \"Send\", \"per_call\": 2.7573683670128988e-05, \"size\": 7943}, {\"kind\": \"send\", \"per_call\": 0.00011518810723602257, \"size\": 11220}, {\"kind\": \"Send\", \"per_call\": 3.0144625418479654e-05, \"size\": 11220}, {\"kind\": \"send\", \"per_call\": 0.00012362355272942942, \"size\": 15848}, {\"kind\": \"Send\", \"per_call\": 4.031957284451116e-05, \"size\": 15848}, {\"kind\": \"send\", \"per_call\": 0.00016430253301396097, \"size\": 22387}, {\"kind\": \"Send\", \"per_call\": 7.134116819515344e-05, \"size\": 22387}, {\"kind\": \"send\", \"per_call\": 0.00023901268096617696, \"size\": 31622}, {\"kind\": \"Send\", \"per_call\": 9.310301743805337e-05, \"size\": 31622}, {\"kind\": \"send\", \"per_call\": 0.0003215485679677578, \"size\": 44668}, {\"kind\": \"Send\", \"per_call\": 0.00010438555285050414, \"size\": 44668}, {\"kind\": \"send\", \"per_call\": 0.00039898201007878756, \"size\": 63095}, {\"kind\": \"Send\", \"per_call\": 0.0001457235241283505, \"size\": 63095}, {\"kind\": \"send\", \"per_call\": 0.0006034406932697654, \"size\": 89125}, {\"kind\": \"Send\", \"per_call\": 0.00022296708809156016, \"size\": 89125}, {\"kind\": \"send\", \"per_call\": 0.0011970003393591384, \"size\": 125892}, {\"kind\": \"Send\", \"per_call\": 0.00035065685339637014, \"size\": 125892}, {\"kind\": \"send\", \"per_call\": 0.00478046732211204, \"size\": 177827}, {\"kind\": \"Send\", \"per_call\": 0.0004945417780747411, \"size\": 177827}, {\"kind\": \"send\", \"per_call\": 0.004879202392308239, \"size\": 251188}, {\"kind\": \"Send\", \"per_call\": 0.0006860629585895947, \"size\": 251188}, {\"kind\": \"send\", \"per_call\": 0.010131335505123847, \"size\": 354813}, {\"kind\": \"Send\", \"per_call\": 0.0009442910743845542, \"size\": 354813}, {\"kind\": \"send\", \"per_call\": 0.01309982619999833, \"size\": 501187}, {\"kind\": \"Send\", \"per_call\": 0.0014706970000063918, \"size\": 501187}, {\"kind\": \"send\", \"per_call\": 0.020363317022161532, \"size\": 707945}, {\"kind\": \"Send\", \"per_call\": 0.001933314012863933, \"size\": 707945}, {\"kind\": \"send\", \"per_call\": 0.022532234484859862, \"size\": 1000000}, {\"kind\": \"Send\", \"per_call\": 0.003498196634009406, \"size\": 1000000}]}}, {\"mode\": \"vega-lite\"});\n",
       "</script>"
      ],
      "text/plain": [
       "alt.Chart(...)"
      ]
     },
     "execution_count": 9,
     "metadata": {},
     "output_type": "execute_result"
    }
   ],
   "source": [
    "alt.Chart(df).mark_line().encode(\n",
    "    x=alt.X(\"size\", scale=alt.Scale(type=\"log\")),\n",
    "    y=alt.Y(\"per_call\", scale=alt.Scale(type=\"log\")),\n",
    "    color=\"kind\",\n",
    ")"
   ]
  },
  {
   "cell_type": "markdown",
   "id": "a71ffbb6-2e02-4b7f-aa33-d200cf77cb49",
   "metadata": {},
   "source": [
    "We can also plot the 'speedup' or the ratio of how much quicker `Send` calls are than `send`:"
   ]
  },
  {
   "cell_type": "code",
   "execution_count": 10,
   "id": "aaeef9b8-5145-4f65-b6f3-5797665d79d0",
   "metadata": {
    "tags": []
   },
   "outputs": [
    {
     "data": {
      "text/html": [
       "\n",
       "<style>\n",
       "  #altair-viz-f202a84303004f368109b5895bf5061c.vega-embed {\n",
       "    width: 100%;\n",
       "    display: flex;\n",
       "  }\n",
       "\n",
       "  #altair-viz-f202a84303004f368109b5895bf5061c.vega-embed details,\n",
       "  #altair-viz-f202a84303004f368109b5895bf5061c.vega-embed details summary {\n",
       "    position: relative;\n",
       "  }\n",
       "</style>\n",
       "<div id=\"altair-viz-f202a84303004f368109b5895bf5061c\"></div>\n",
       "<script type=\"text/javascript\">\n",
       "  var VEGA_DEBUG = (typeof VEGA_DEBUG == \"undefined\") ? {} : VEGA_DEBUG;\n",
       "  (function(spec, embedOpt){\n",
       "    let outputDiv = document.currentScript.previousElementSibling;\n",
       "    if (outputDiv.id !== \"altair-viz-f202a84303004f368109b5895bf5061c\") {\n",
       "      outputDiv = document.getElementById(\"altair-viz-f202a84303004f368109b5895bf5061c\");\n",
       "    }\n",
       "    const paths = {\n",
       "      \"vega\": \"https://cdn.jsdelivr.net/npm/vega@5?noext\",\n",
       "      \"vega-lib\": \"https://cdn.jsdelivr.net/npm/vega-lib?noext\",\n",
       "      \"vega-lite\": \"https://cdn.jsdelivr.net/npm/vega-lite@5.8.0?noext\",\n",
       "      \"vega-embed\": \"https://cdn.jsdelivr.net/npm/vega-embed@6?noext\",\n",
       "    };\n",
       "\n",
       "    function maybeLoadScript(lib, version) {\n",
       "      var key = `${lib.replace(\"-\", \"\")}_version`;\n",
       "      return (VEGA_DEBUG[key] == version) ?\n",
       "        Promise.resolve(paths[lib]) :\n",
       "        new Promise(function(resolve, reject) {\n",
       "          var s = document.createElement('script');\n",
       "          document.getElementsByTagName(\"head\")[0].appendChild(s);\n",
       "          s.async = true;\n",
       "          s.onload = () => {\n",
       "            VEGA_DEBUG[key] = version;\n",
       "            return resolve(paths[lib]);\n",
       "          };\n",
       "          s.onerror = () => reject(`Error loading script: ${paths[lib]}`);\n",
       "          s.src = paths[lib];\n",
       "        });\n",
       "    }\n",
       "\n",
       "    function showError(err) {\n",
       "      outputDiv.innerHTML = `<div class=\"error\" style=\"color:red;\">${err}</div>`;\n",
       "      throw err;\n",
       "    }\n",
       "\n",
       "    function displayChart(vegaEmbed) {\n",
       "      vegaEmbed(outputDiv, spec, embedOpt)\n",
       "        .catch(err => showError(`Javascript Error: ${err.message}<br>This usually means there's a typo in your chart specification. See the javascript console for the full traceback.`));\n",
       "    }\n",
       "\n",
       "    if(typeof define === \"function\" && define.amd) {\n",
       "      requirejs.config({paths});\n",
       "      require([\"vega-embed\"], displayChart, err => showError(`Error loading script: ${err.message}`));\n",
       "    } else {\n",
       "      maybeLoadScript(\"vega\", \"5\")\n",
       "        .then(() => maybeLoadScript(\"vega-lite\", \"5.8.0\"))\n",
       "        .then(() => maybeLoadScript(\"vega-embed\", \"6\"))\n",
       "        .catch(showError)\n",
       "        .then(() => displayChart(vegaEmbed));\n",
       "    }\n",
       "  })({\"config\": {\"view\": {\"continuousWidth\": 300, \"continuousHeight\": 300}}, \"data\": {\"name\": \"data-0eab53a9aa95bb68aeee16e2fa5351ae\"}, \"mark\": {\"type\": \"line\"}, \"encoding\": {\"x\": {\"field\": \"size\", \"scale\": {\"type\": \"log\"}, \"type\": \"quantitative\"}, \"y\": {\"field\": \"speedup\", \"type\": \"quantitative\"}}, \"$schema\": \"https://vega.github.io/schema/vega-lite/v5.8.0.json\", \"datasets\": {\"data-0eab53a9aa95bb68aeee16e2fa5351ae\": [{\"size\": 1000, \"Send\": 8.281185842745932e-06, \"send\": 5.775506150274818e-05, \"speedup\": 6.974250137537954}, {\"size\": 1412, \"Send\": 9.508815068343479e-06, \"send\": 6.328053811435435e-05, \"speedup\": 6.654934148948422}, {\"size\": 1995, \"Send\": 1.1758442144843051e-05, \"send\": 6.75969483644748e-05, \"speedup\": 5.748801374518909}, {\"size\": 2818, \"Send\": 1.637751941812932e-05, \"send\": 8.300558815722279e-05, \"speedup\": 5.068263760709612}, {\"size\": 3981, \"Send\": 1.690232344500721e-05, \"send\": 8.281956860129583e-05, \"speedup\": 4.8998925426291}, {\"size\": 5623, \"Send\": 2.0582310722414074e-05, \"send\": 8.380267487183417e-05, \"speedup\": 4.071587296589265}, {\"size\": 7943, \"Send\": 2.7573683670128988e-05, \"send\": 0.00010358554911099405, \"speedup\": 3.7566815645749188}, {\"size\": 11220, \"Send\": 3.0144625418479654e-05, \"send\": 0.00011518810723602257, \"speedup\": 3.8211822385229723}, {\"size\": 15848, \"Send\": 4.031957284451116e-05, \"send\": 0.00012362355272942942, \"speedup\": 3.0660928181499503}, {\"size\": 22387, \"Send\": 7.134116819515344e-05, \"send\": 0.00016430253301396097, \"speedup\": 2.3030535828136727}, {\"size\": 31622, \"Send\": 9.310301743805337e-05, \"send\": 0.00023901268096617696, \"speedup\": 2.5671851197003948}, {\"size\": 44668, \"Send\": 0.00010438555285050414, \"send\": 0.0003215485679677578, \"speedup\": 3.0803933991542283}, {\"size\": 63095, \"Send\": 0.0001457235241283505, \"send\": 0.00039898201007878756, \"speedup\": 2.737938246177548}, {\"size\": 89125, \"Send\": 0.00022296708809156016, \"send\": 0.0006034406932697654, \"speedup\": 2.7064115086885194}, {\"size\": 125892, \"Send\": 0.00035065685339637014, \"send\": 0.0011970003393591384, \"speedup\": 3.413594594730739}, {\"size\": 177827, \"Send\": 0.0004945417780747411, \"send\": 0.00478046732211204, \"speedup\": 9.666457990106467}, {\"size\": 251188, \"Send\": 0.0006860629585895947, \"send\": 0.004879202392308239, \"speedup\": 7.111887227287248}, {\"size\": 354813, \"Send\": 0.0009442910743845542, \"send\": 0.010131335505123847, \"speedup\": 10.729038725402535}, {\"size\": 501187, \"Send\": 0.0014706970000063918, \"send\": 0.01309982619999833, \"speedup\": 8.907223037744279}, {\"size\": 707945, \"Send\": 0.001933314012863933, \"send\": 0.020363317022161532, \"speedup\": 10.532855442348001}, {\"size\": 1000000, \"Send\": 0.003498196634009406, \"send\": 0.022532234484859862, \"speedup\": 6.44110004160483}]}}, {\"mode\": \"vega-lite\"});\n",
       "</script>"
      ],
      "text/plain": [
       "alt.Chart(...)"
      ]
     },
     "execution_count": 10,
     "metadata": {},
     "output_type": "execute_result"
    }
   ],
   "source": [
    "speedup_df = df.groupby([\"size\", \"kind\"]).per_call.first().unstack()\n",
    "speedup_df[\"speedup\"] = speedup_df[\"send\"] / speedup_df[\"Send\"]\n",
    "alt.Chart(speedup_df.reset_index()).mark_line().encode(\n",
    "    x=alt.X(\"size\", scale=alt.Scale(type=\"log\")),\n",
    "    y=\"speedup\",\n",
    ")"
   ]
  },
  {
   "cell_type": "markdown",
   "id": "254dcee5-57cf-48fd-82a2-c0d0b61bc0f8",
   "metadata": {},
   "source": [
    "So we can see that Send is ~3-9 times faster than `send` for numpy arrays.\n",
    "This is largely because we avoid additional memory allocations for every recv."
   ]
  },
  {
   "cell_type": "code",
   "execution_count": 11,
   "id": "1ef0812d-9661-40f2-8858-b1d0c3eba578",
   "metadata": {
    "tags": []
   },
   "outputs": [],
   "source": [
    "rc.cluster.stop_cluster_sync()"
   ]
  },
  {
   "cell_type": "code",
   "execution_count": null,
   "id": "e6cccb55-d26d-4e20-8402-346394e9b9e5",
   "metadata": {},
   "outputs": [],
   "source": []
  }
 ],
 "metadata": {
  "kernelspec": {
   "display_name": "Python 3 (ipykernel)",
   "language": "python",
   "name": "python3"
  },
  "language_info": {
   "codemirror_mode": {
    "name": "ipython",
    "version": 3
   },
   "file_extension": ".py",
   "mimetype": "text/x-python",
   "name": "python",
   "nbconvert_exporter": "python",
   "pygments_lexer": "ipython3",
   "version": "3.10.13"
  },
  "widgets": {
   "application/vnd.jupyter.widget-state+json": {
    "state": {
     "098e07ba86ca4531b501a0eefabf2156": {
      "model_module": "@jupyter-widgets/base",
      "model_module_version": "2.0.0",
      "model_name": "LayoutModel",
      "state": {}
     },
     "0c6d70c2ce2e4fa282249636c7651607": {
      "model_module": "@jupyter-widgets/base",
      "model_module_version": "2.0.0",
      "model_name": "LayoutModel",
      "state": {}
     },
     "1419108abb5f497ea95e3ef08069a140": {
      "model_module": "@jupyter-widgets/controls",
      "model_module_version": "2.0.0",
      "model_name": "HTMLModel",
      "state": {
       "layout": "IPY_MODEL_ee1f07cccced4ddab607c05fde57fbd4",
       "style": "IPY_MODEL_17627a0d26a34197bcba8a467b552e5f",
       "value": "100%"
      }
     },
     "17627a0d26a34197bcba8a467b552e5f": {
      "model_module": "@jupyter-widgets/controls",
      "model_module_version": "2.0.0",
      "model_name": "HTMLStyleModel",
      "state": {
       "description_width": "",
       "font_size": null,
       "text_color": null
      }
     },
     "2c29a3b3c6b04d008b081b0b48119101": {
      "model_module": "@jupyter-widgets/controls",
      "model_module_version": "2.0.0",
      "model_name": "HBoxModel",
      "state": {
       "children": [
        "IPY_MODEL_abfc7808386a465ea19e57aae1c9fa15",
        "IPY_MODEL_7dbf04bc6448407799c7889f315461a0",
        "IPY_MODEL_37c13e020bec4ad28748dcd4faa5578e"
       ],
       "layout": "IPY_MODEL_098e07ba86ca4531b501a0eefabf2156"
      }
     },
     "2f69c35d9e994af0bf2d4508fadb5c81": {
      "model_module": "@jupyter-widgets/base",
      "model_module_version": "2.0.0",
      "model_name": "LayoutModel",
      "state": {}
     },
     "37c13e020bec4ad28748dcd4faa5578e": {
      "model_module": "@jupyter-widgets/controls",
      "model_module_version": "2.0.0",
      "model_name": "HTMLModel",
      "state": {
       "layout": "IPY_MODEL_f6a5cc4c10e845e098d0d3836e059ee1",
       "style": "IPY_MODEL_49a03d34112347699abb29b12ce6d0ae",
       "value": " 2/2 [00:04&lt;00:00,  2.43s/tasks]"
      }
     },
     "39275f083b5a4c879e935dff59bedaaa": {
      "model_module": "@jupyter-widgets/controls",
      "model_module_version": "2.0.0",
      "model_name": "HTMLStyleModel",
      "state": {
       "description_width": "",
       "font_size": null,
       "text_color": null
      }
     },
     "49a03d34112347699abb29b12ce6d0ae": {
      "model_module": "@jupyter-widgets/controls",
      "model_module_version": "2.0.0",
      "model_name": "HTMLStyleModel",
      "state": {
       "description_width": "",
       "font_size": null,
       "text_color": null
      }
     },
     "7dbf04bc6448407799c7889f315461a0": {
      "model_module": "@jupyter-widgets/controls",
      "model_module_version": "2.0.0",
      "model_name": "FloatProgressModel",
      "state": {
       "bar_style": "success",
       "layout": "IPY_MODEL_83b5bd4437004902852e19638c1d8c53",
       "max": 2,
       "style": "IPY_MODEL_f5427f7fd4ab4d8d9db985ce328bdd69",
       "value": 2
      }
     },
     "80c8db934ef144d98eaef54847d904b2": {
      "model_module": "@jupyter-widgets/controls",
      "model_module_version": "2.0.0",
      "model_name": "HTMLModel",
      "state": {
       "layout": "IPY_MODEL_0c6d70c2ce2e4fa282249636c7651607",
       "style": "IPY_MODEL_39275f083b5a4c879e935dff59bedaaa",
       "value": " 21/21 [00:33&lt;00:00,  1.93s/it]"
      }
     },
     "83b5bd4437004902852e19638c1d8c53": {
      "model_module": "@jupyter-widgets/base",
      "model_module_version": "2.0.0",
      "model_name": "LayoutModel",
      "state": {}
     },
     "88cc894f676a4415b729a2ccaca3110e": {
      "model_module": "@jupyter-widgets/controls",
      "model_module_version": "2.0.0",
      "model_name": "FloatProgressModel",
      "state": {
       "bar_style": "success",
       "layout": "IPY_MODEL_2f69c35d9e994af0bf2d4508fadb5c81",
       "max": 21,
       "style": "IPY_MODEL_b2a7d654689d49f9b3d5b6f316626cae",
       "value": 21
      }
     },
     "a97a13e81a93410d854255eb32db2444": {
      "model_module": "@jupyter-widgets/controls",
      "model_module_version": "2.0.0",
      "model_name": "HTMLStyleModel",
      "state": {
       "description_width": "",
       "font_size": null,
       "text_color": null
      }
     },
     "abfc7808386a465ea19e57aae1c9fa15": {
      "model_module": "@jupyter-widgets/controls",
      "model_module_version": "2.0.0",
      "model_name": "HTMLModel",
      "state": {
       "layout": "IPY_MODEL_d862a16011c14e49bbb5bdc967fa95b2",
       "style": "IPY_MODEL_a97a13e81a93410d854255eb32db2444",
       "value": "%px: 100%"
      }
     },
     "ad5ef09b7d1548b39164606084b39ac1": {
      "model_module": "@jupyter-widgets/base",
      "model_module_version": "2.0.0",
      "model_name": "LayoutModel",
      "state": {}
     },
     "b2a7d654689d49f9b3d5b6f316626cae": {
      "model_module": "@jupyter-widgets/controls",
      "model_module_version": "2.0.0",
      "model_name": "ProgressStyleModel",
      "state": {
       "description_width": ""
      }
     },
     "d862a16011c14e49bbb5bdc967fa95b2": {
      "model_module": "@jupyter-widgets/base",
      "model_module_version": "2.0.0",
      "model_name": "LayoutModel",
      "state": {}
     },
     "ea1a578b92e04a919bd0d79eb4ae67d7": {
      "model_module": "@jupyter-widgets/controls",
      "model_module_version": "2.0.0",
      "model_name": "HBoxModel",
      "state": {
       "children": [
        "IPY_MODEL_1419108abb5f497ea95e3ef08069a140",
        "IPY_MODEL_88cc894f676a4415b729a2ccaca3110e",
        "IPY_MODEL_80c8db934ef144d98eaef54847d904b2"
       ],
       "layout": "IPY_MODEL_ad5ef09b7d1548b39164606084b39ac1"
      }
     },
     "ee1f07cccced4ddab607c05fde57fbd4": {
      "model_module": "@jupyter-widgets/base",
      "model_module_version": "2.0.0",
      "model_name": "LayoutModel",
      "state": {}
     },
     "f5427f7fd4ab4d8d9db985ce328bdd69": {
      "model_module": "@jupyter-widgets/controls",
      "model_module_version": "2.0.0",
      "model_name": "ProgressStyleModel",
      "state": {
       "description_width": ""
      }
     },
     "f6a5cc4c10e845e098d0d3836e059ee1": {
      "model_module": "@jupyter-widgets/base",
      "model_module_version": "2.0.0",
      "model_name": "LayoutModel",
      "state": {}
     }
    },
    "version_major": 2,
    "version_minor": 0
   }
  }
 },
 "nbformat": 4,
 "nbformat_minor": 5
}

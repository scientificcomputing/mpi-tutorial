{
 "cells": [
  {
   "cell_type": "markdown",
   "id": "04225a2b-4505-4ace-9ae9-fc370e31b105",
   "metadata": {},
   "source": [
    "# MPI Send and Receive\n",
    "\n",
    "Sending and receiving data with MPI.\n",
    "\n",
    "See [the original tutorial](https://mpitutorial.com/tutorials/mpi-send-and-receive/) (MIT License) for more narrative detail and examples in C.\n"
   ]
  },
  {
   "cell_type": "markdown",
   "id": "199fdfe5-1a8a-4f84-a1e5-437f3021af2b",
   "metadata": {},
   "source": [
    "## Initializing the cluster\n",
    "\n",
    "As with all tutorials, we will start by creating a cluster of MPI processes and initializing the rank and size."
   ]
  },
  {
   "cell_type": "code",
   "execution_count": 1,
   "id": "39a1c079-9f64-46cd-b4cc-148bc5bc4f9a",
   "metadata": {},
   "outputs": [
    {
     "data": {
      "application/vnd.jupyter.widget-view+json": {
       "model_id": "0b466b066b6749dc84a6c13aaae30b43",
       "version_major": 2,
       "version_minor": 0
      },
      "text/plain": [
       "  0%|          | 0/2 [00:00<?, ?engine/s]"
      ]
     },
     "metadata": {},
     "output_type": "display_data"
    }
   ],
   "source": [
    "import logging\n",
    "import ipyparallel as ipp\n",
    "\n",
    "# create a cluster\n",
    "rc = ipp.Cluster(engines=\"mpi\", n=2, log_level=logging.WARNING).start_and_connect_sync(activate=True)"
   ]
  },
  {
   "cell_type": "code",
   "execution_count": 2,
   "id": "1184e9f8-27aa-43b8-b758-28a4bd3ae1c0",
   "metadata": {
    "tags": []
   },
   "outputs": [
    {
     "data": {
      "text/plain": [
       "[stdout:0] I am rank 0 / 2\n"
      ]
     },
     "metadata": {},
     "output_type": "display_data"
    },
    {
     "data": {
      "text/plain": [
       "[stdout:1] I am rank 1 / 2\n"
      ]
     },
     "metadata": {},
     "output_type": "display_data"
    }
   ],
   "source": [
    "%%px\n",
    "# Find out rank, size\n",
    "from mpi4py import MPI\n",
    "\n",
    "comm = MPI.COMM_WORLD\n",
    "rank = comm.rank\n",
    "size = comm.size\n",
    "\n",
    "print(f\"I am rank {rank} / {size}\")"
   ]
  },
  {
   "cell_type": "markdown",
   "id": "e83314df-d0f9-4724-8237-7669a142df2b",
   "metadata": {},
   "source": [
    "## MPI send/recv \n",
    "\n",
    "[original tutorial](https://mpitutorial.com/tutorials/mpi-send-and-receive/#mpi-send--recv-program)\n",
    "\n",
    "Send and recv are used for point-to-point communication,\n",
    "where one process wants to send a message to one other process.\n",
    "\n",
    "In this example, engine 0 has a `number` and wants to send it to 1.\n",
    "So engine 0 calls `comm.send(number, dest=1)` (\"send number to 1\")\n",
    "while engine 1 calls `number = comm.recv(source=0)` (\"receive number from 0\").\n"
   ]
  },
  {
   "cell_type": "code",
   "execution_count": 3,
   "id": "94957944-a17e-468a-9b6e-7590f53c204f",
   "metadata": {
    "tags": []
   },
   "outputs": [
    {
     "data": {
      "text/plain": [
       "[stdout:0] Process 0 sending number -1 to process 1\n",
       "Process 0 has number -1\n"
      ]
     },
     "metadata": {},
     "output_type": "display_data"
    },
    {
     "data": {
      "text/plain": [
       "[stdout:1] Process 1 received number -1 from process 0\n",
       "Process 1 has number -1\n"
      ]
     },
     "metadata": {},
     "output_type": "display_data"
    }
   ],
   "source": [
    "%%px\n",
    "\n",
    "number = None\n",
    "\n",
    "if rank == 0:\n",
    "    number = -1\n",
    "    print(f\"Process 0 sending number {number} to process 1\")\n",
    "    comm.send(number, dest=1)\n",
    "elif rank == 1:\n",
    "    number = comm.recv(source=0)\n",
    "    print(f\"Process 1 received number {number} from process 0\")\n",
    "\n",
    "print(f\"Process {rank} has number {number}\")"
   ]
  },
  {
   "cell_type": "markdown",
   "id": "96cf5771-ad57-47a9-bc9b-7275ea0f5197",
   "metadata": {},
   "source": [
    "With mpi4py, we can send all kinds of Python objects, but _buffers_ like numpy arrays are handled most efficiently.\n",
    "We can pre-allocate arrays and use `comm.Send` instead of `comm.send`, which will handle any Python object with the best serialization mpi4py can think of, falling back on the (quite inefficient) pickle.\n",
    "\n",
    "For more detail, see the [mpi4py tutorial](https://mpi4py.readthedocs.io/en/stable/tutorial.html#point-to-point-communication)."
   ]
  },
  {
   "cell_type": "code",
   "execution_count": 4,
   "id": "5b242d3b-dc4b-4351-950e-72e507e3a5eb",
   "metadata": {
    "tags": []
   },
   "outputs": [
    {
     "data": {
      "text/plain": [
       "[stdout:0] Process 0 has:\n",
       "[[0. 1. 2.]\n",
       " [3. 4. 5.]]\n"
      ]
     },
     "metadata": {},
     "output_type": "display_data"
    },
    {
     "data": {
      "text/plain": [
       "[stdout:1] Process 1 has:\n",
       "[[0. 1. 2.]\n",
       " [3. 4. 5.]]\n"
      ]
     },
     "metadata": {},
     "output_type": "display_data"
    }
   ],
   "source": [
    "%%px\n",
    "\n",
    "import numpy as np\n",
    "shape = (2, 3)\n",
    "arr_size = shape[0] * shape[1]\n",
    "\n",
    "if rank == 0:\n",
    "    arr = np.arange(arr_size, dtype=np.float64).reshape(shape)\n",
    "    comm.Send(arr, dest=1)\n",
    "elif rank == 1:\n",
    "    arr = np.empty(shape, dtype=np.float64)\n",
    "    comm.Recv(arr, source=0)\n",
    "\n",
    "print(f\"Process {rank} has:\\n{arr}\")"
   ]
  },
  {
   "cell_type": "markdown",
   "id": "80115ddc-1248-4d3c-a3b7-aecd6a525467",
   "metadata": {},
   "source": [
    "## MPI ping pong program\n",
    "\n",
    "ping-pong\n",
    "[original tutorial](https://mpitutorial.com/tutorials/mpi-send-and-receive/#mpi-ping-pong-program)\n"
   ]
  },
  {
   "cell_type": "code",
   "execution_count": 5,
   "id": "440eb2a6-2a4f-401c-9d89-3c66ece0c103",
   "metadata": {
    "tags": []
   },
   "outputs": [
    {
     "data": {
      "text/plain": [
       "[stdout:1] 1 received ping_pong_count 1 from 0\n",
       "1 sent and incremented ping_pong_count 2 to 0\n",
       "1 received ping_pong_count 3 from 0\n",
       "1 sent and incremented ping_pong_count 4 to 0\n",
       "1 received ping_pong_count 5 from 0\n"
      ]
     },
     "metadata": {},
     "output_type": "display_data"
    },
    {
     "data": {
      "text/plain": [
       "[stdout:0] 0 sent and incremented ping_pong_count 1 to 1\n",
       "0 received ping_pong_count 2 from 1\n",
       "0 sent and incremented ping_pong_count 3 to 1\n",
       "0 received ping_pong_count 4 from 1\n",
       "0 sent and incremented ping_pong_count 5 to 1\n"
      ]
     },
     "metadata": {},
     "output_type": "display_data"
    }
   ],
   "source": [
    "%%px\n",
    "\n",
    "import time\n",
    "\n",
    "partner_rank = (rank + 1) % 2\n",
    "assert size % 2 == 0, \"Cannot work with an odd number of processes\"\n",
    "\n",
    "for ping_pong_count in range(5):\n",
    "    if rank == ping_pong_count % 2:\n",
    "        ping_pong_count += 1\n",
    "        comm.send(ping_pong_count, dest=partner_rank)\n",
    "        print(f\"{rank} sent and incremented ping_pong_count {ping_pong_count} to {partner_rank}\")\n",
    "    else:\n",
    "        ping_pong_count = comm.recv(source=partner_rank)\n",
    "        print(f\"{rank} received ping_pong_count {ping_pong_count} from {partner_rank}\")\n",
    "\n",
    "    # Make sure the output is synchronized\n",
    "    # (this is not necessary in IPython Parallel)\n",
    "    comm.Barrier()\n"
   ]
  },
  {
   "cell_type": "markdown",
   "id": "1faad8bb-f016-42d1-8aa3-49bf7cd5d5d4",
   "metadata": {
    "tags": []
   },
   "source": [
    "## Ring program\n",
    "\n",
    "In this example, we'll send messages around in a ring. 0 sends to 1, 1 sends to 2, etc. until the last worker sends back to 0.\n",
    "\n",
    "[original tutorial](https://mpitutorial.com/tutorials/mpi-send-and-receive/#ring-program)\n",
    "\n",
    "\n",
    "This one uses more than 2 processes, so stop our first cluster and start a new one."
   ]
  },
  {
   "cell_type": "code",
   "execution_count": 6,
   "id": "9e9a65e7-8732-40cc-b073-7bd960f87e07",
   "metadata": {
    "tags": []
   },
   "outputs": [
    {
     "name": "stdout",
     "output_type": "stream",
     "text": [
      "Starting 4 engines with <class 'ipyparallel.cluster.launcher.MPIEngineSetLauncher'>\n"
     ]
    },
    {
     "data": {
      "application/vnd.jupyter.widget-view+json": {
       "model_id": "aa64fb1e56824d6091464af77d498b6e",
       "version_major": 2,
       "version_minor": 0
      },
      "text/plain": [
       "  0%|          | 0/4 [00:00<?, ?engine/s]"
      ]
     },
     "metadata": {},
     "output_type": "display_data"
    }
   ],
   "source": [
    "try:\n",
    "    rc.cluster.stop_cluster_sync()\n",
    "except NameError:\n",
    "    # rc undefined, e.g. not starting from scratch\n",
    "    pass\n",
    "\n",
    "import ipyparallel as ipp\n",
    "# start a cluster and connect to it\n",
    "rc = ipp.Cluster(engines=\"mpi\", n=4).start_and_connect_sync(activate=True)"
   ]
  },
  {
   "cell_type": "code",
   "execution_count": 7,
   "id": "71b07caf-d101-4dc9-b0d0-c5b99ccd1f9d",
   "metadata": {
    "tags": []
   },
   "outputs": [
    {
     "data": {
      "text/plain": [
       "[stdout:1] 1 received b'0' from 0\n"
      ]
     },
     "metadata": {},
     "output_type": "display_data"
    },
    {
     "data": {
      "text/plain": [
       "[stdout:3] 3 received b'012' from 2\n"
      ]
     },
     "metadata": {},
     "output_type": "display_data"
    },
    {
     "data": {
      "text/plain": [
       "[stdout:2] 2 received b'01' from 1\n"
      ]
     },
     "metadata": {},
     "output_type": "display_data"
    },
    {
     "data": {
      "text/plain": [
       "[stdout:0] 0 received b'0123' from 3\n"
      ]
     },
     "metadata": {},
     "output_type": "display_data"
    }
   ],
   "source": [
    "%%px\n",
    "\n",
    "from mpi4py import MPI\n",
    "\n",
    "comm = MPI.COMM_WORLD\n",
    "rank = comm.Get_rank()\n",
    "size = comm.Get_size()\n",
    "\n",
    "if rank != 0:\n",
    "    token = comm.recv(source=rank - 1)\n",
    "    print(f\"{rank} received {token} from {rank - 1}\")\n",
    "    token = token + f\"{rank}\".encode('ascii')\n",
    "else:\n",
    "    token = b\"0\"\n",
    "\n",
    "comm.send(token, dest=(rank + 1) % size)\n",
    "\n",
    "if rank == 0:\n",
    "    token = comm.recv(source=size - 1)\n",
    "    print(f\"{rank} received {token} from {size - 1}\")"
   ]
  },
  {
   "cell_type": "markdown",
   "id": "6ae25f1e-5397-471e-8f09-00b6e005aad8",
   "metadata": {},
   "source": [
    "Or we can do some similar communication, using a numpy array as a buffer"
   ]
  },
  {
   "cell_type": "code",
   "execution_count": 8,
   "id": "f3fd5d13-3c71-43bf-a880-510d0ce4b460",
   "metadata": {
    "tags": []
   },
   "outputs": [
    {
     "data": {
      "text/plain": [
       "[stdout:1] 1 received [0] from 0\n"
      ]
     },
     "metadata": {},
     "output_type": "display_data"
    },
    {
     "data": {
      "text/plain": [
       "[stdout:2] 2 received [0 1] from 1\n"
      ]
     },
     "metadata": {},
     "output_type": "display_data"
    },
    {
     "data": {
      "text/plain": [
       "[stdout:0] 0 received [0 1 2 3] from 3\n"
      ]
     },
     "metadata": {},
     "output_type": "display_data"
    },
    {
     "data": {
      "text/plain": [
       "[stdout:3] 3 received [0 1 2] from 2\n"
      ]
     },
     "metadata": {},
     "output_type": "display_data"
    }
   ],
   "source": [
    "%%px\n",
    "\n",
    "import numpy as np\n",
    "from mpi4py import MPI\n",
    "\n",
    "\n",
    "buf = np.zeros(size, dtype=np.uint8)\n",
    "\n",
    "if rank != 0:\n",
    "    token = buf[:rank]\n",
    "    comm.Recv(token, source=rank - 1)\n",
    "    print(f\"{rank} received {token} from {rank - 1}\")\n",
    "    token = buf[:rank + 1]\n",
    "    token[rank] = rank\n",
    "else:\n",
    "    token = b'\\0'\n",
    "\n",
    "comm.Send(token, dest=(rank + 1) % size)\n",
    "\n",
    "if rank == 0:\n",
    "    token = buf\n",
    "    comm.Recv(token, source=size - 1)\n",
    "    print(f\"{rank} received {token} from {size - 1}\")"
   ]
  },
  {
   "cell_type": "code",
   "execution_count": 9,
   "id": "64890cf5-4b28-44b5-aa3f-e93d9ca15d70",
   "metadata": {
    "tags": []
   },
   "outputs": [
    {
     "name": "stdout",
     "output_type": "stream",
     "text": [
      "Stopping controller\n",
      "Controller stopped: {'exit_code': 0, 'pid': 333009, 'identifier': 'ipcontroller-1704460808-ikmy-332566'}\n",
      "Stopping engine(s): 1704460809\n",
      "engine set stopped 1704460809: {'exit_code': 0, 'pid': 333060, 'identifier': 'ipengine-1704460808-ikmy-1704460809-332566'}\n"
     ]
    }
   ],
   "source": [
    "rc.cluster.stop_cluster_sync()"
   ]
  }
 ],
 "metadata": {
  "kernelspec": {
   "display_name": "Python 3 (ipykernel)",
   "language": "python",
   "name": "python3"
  },
  "language_info": {
   "codemirror_mode": {
    "name": "ipython",
    "version": 3
   },
   "file_extension": ".py",
   "mimetype": "text/x-python",
   "name": "python",
   "nbconvert_exporter": "python",
   "pygments_lexer": "ipython3",
   "version": "3.10.13"
  },
  "widgets": {
   "application/vnd.jupyter.widget-state+json": {
    "state": {
     "07cc5765d885472f9f283757ce0f1053": {
      "model_module": "@jupyter-widgets/base",
      "model_module_version": "2.0.0",
      "model_name": "LayoutModel",
      "state": {}
     },
     "0ab1d0d39af441a4b88782e79a0c2c17": {
      "model_module": "@jupyter-widgets/controls",
      "model_module_version": "2.0.0",
      "model_name": "HTMLStyleModel",
      "state": {
       "description_width": "",
       "font_size": null,
       "text_color": null
      }
     },
     "148907b736fb4982809a522d17795d1a": {
      "model_module": "@jupyter-widgets/controls",
      "model_module_version": "2.0.0",
      "model_name": "HBoxModel",
      "state": {
       "children": [
        "IPY_MODEL_86ad7941f49f4036889dd8424cd77b66",
        "IPY_MODEL_563491ca58994393946f7a56178e4935",
        "IPY_MODEL_59f09d0cad604496affd66908dca1ffe"
       ],
       "layout": "IPY_MODEL_6da5c1f26f3e40259a6d5d670dff940f"
      }
     },
     "150b396c73c64e7593b1fa4cb502245f": {
      "model_module": "@jupyter-widgets/controls",
      "model_module_version": "2.0.0",
      "model_name": "HTMLModel",
      "state": {
       "layout": "IPY_MODEL_50a0b2e2b37846b795c58a3498db1275",
       "style": "IPY_MODEL_42df66bdb95c4ae7952014460c1f18b9",
       "value": " 4/4 [00:01&lt;00:00,  1.53s/engine]"
      }
     },
     "352e598f2ae142e9ae550353718ee6cb": {
      "model_module": "@jupyter-widgets/base",
      "model_module_version": "2.0.0",
      "model_name": "LayoutModel",
      "state": {}
     },
     "3d47278f8d5440858dc7a3d30649ceb9": {
      "model_module": "@jupyter-widgets/base",
      "model_module_version": "2.0.0",
      "model_name": "LayoutModel",
      "state": {}
     },
     "42df66bdb95c4ae7952014460c1f18b9": {
      "model_module": "@jupyter-widgets/controls",
      "model_module_version": "2.0.0",
      "model_name": "HTMLStyleModel",
      "state": {
       "description_width": "",
       "font_size": null,
       "text_color": null
      }
     },
     "50a0b2e2b37846b795c58a3498db1275": {
      "model_module": "@jupyter-widgets/base",
      "model_module_version": "2.0.0",
      "model_name": "LayoutModel",
      "state": {}
     },
     "563491ca58994393946f7a56178e4935": {
      "model_module": "@jupyter-widgets/controls",
      "model_module_version": "2.0.0",
      "model_name": "FloatProgressModel",
      "state": {
       "bar_style": "success",
       "layout": "IPY_MODEL_352e598f2ae142e9ae550353718ee6cb",
       "max": 2,
       "style": "IPY_MODEL_eec1cc8143f94aabae9ab07499060035",
       "value": 2
      }
     },
     "59f09d0cad604496affd66908dca1ffe": {
      "model_module": "@jupyter-widgets/controls",
      "model_module_version": "2.0.0",
      "model_name": "HTMLModel",
      "state": {
       "layout": "IPY_MODEL_3d47278f8d5440858dc7a3d30649ceb9",
       "style": "IPY_MODEL_aa512459cdd040309ea928016d1cc617",
       "value": " 2/2 [00:01&lt;00:00,  1.38s/engine]"
      }
     },
     "6da5c1f26f3e40259a6d5d670dff940f": {
      "model_module": "@jupyter-widgets/base",
      "model_module_version": "2.0.0",
      "model_name": "LayoutModel",
      "state": {}
     },
     "86ad7941f49f4036889dd8424cd77b66": {
      "model_module": "@jupyter-widgets/controls",
      "model_module_version": "2.0.0",
      "model_name": "HTMLModel",
      "state": {
       "layout": "IPY_MODEL_07cc5765d885472f9f283757ce0f1053",
       "style": "IPY_MODEL_0ab1d0d39af441a4b88782e79a0c2c17",
       "value": "100%"
      }
     },
     "968aff975be745269526156f57cf7050": {
      "model_module": "@jupyter-widgets/controls",
      "model_module_version": "2.0.0",
      "model_name": "ProgressStyleModel",
      "state": {
       "description_width": ""
      }
     },
     "9eb5d39e80dd4a53b6649b0ed659e9b5": {
      "model_module": "@jupyter-widgets/controls",
      "model_module_version": "2.0.0",
      "model_name": "FloatProgressModel",
      "state": {
       "bar_style": "success",
       "layout": "IPY_MODEL_afb1023e0d28416f8d5e5225edec5765",
       "max": 4,
       "style": "IPY_MODEL_968aff975be745269526156f57cf7050",
       "value": 4
      }
     },
     "a70729b950c444c5a0a161dd30e4474a": {
      "model_module": "@jupyter-widgets/controls",
      "model_module_version": "2.0.0",
      "model_name": "HTMLStyleModel",
      "state": {
       "description_width": "",
       "font_size": null,
       "text_color": null
      }
     },
     "a8767a515d954819943e6268129d9704": {
      "model_module": "@jupyter-widgets/base",
      "model_module_version": "2.0.0",
      "model_name": "LayoutModel",
      "state": {}
     },
     "aa512459cdd040309ea928016d1cc617": {
      "model_module": "@jupyter-widgets/controls",
      "model_module_version": "2.0.0",
      "model_name": "HTMLStyleModel",
      "state": {
       "description_width": "",
       "font_size": null,
       "text_color": null
      }
     },
     "ae8d08631fe9454186bca61080a01947": {
      "model_module": "@jupyter-widgets/base",
      "model_module_version": "2.0.0",
      "model_name": "LayoutModel",
      "state": {}
     },
     "afb1023e0d28416f8d5e5225edec5765": {
      "model_module": "@jupyter-widgets/base",
      "model_module_version": "2.0.0",
      "model_name": "LayoutModel",
      "state": {}
     },
     "e507014fbcb54e13a00ddf8f51feb005": {
      "model_module": "@jupyter-widgets/controls",
      "model_module_version": "2.0.0",
      "model_name": "HTMLModel",
      "state": {
       "layout": "IPY_MODEL_ae8d08631fe9454186bca61080a01947",
       "style": "IPY_MODEL_a70729b950c444c5a0a161dd30e4474a",
       "value": "100%"
      }
     },
     "e93a7bb3720f41adb62184472d304edd": {
      "model_module": "@jupyter-widgets/controls",
      "model_module_version": "2.0.0",
      "model_name": "HBoxModel",
      "state": {
       "children": [
        "IPY_MODEL_e507014fbcb54e13a00ddf8f51feb005",
        "IPY_MODEL_9eb5d39e80dd4a53b6649b0ed659e9b5",
        "IPY_MODEL_150b396c73c64e7593b1fa4cb502245f"
       ],
       "layout": "IPY_MODEL_a8767a515d954819943e6268129d9704"
      }
     },
     "eec1cc8143f94aabae9ab07499060035": {
      "model_module": "@jupyter-widgets/controls",
      "model_module_version": "2.0.0",
      "model_name": "ProgressStyleModel",
      "state": {
       "description_width": ""
      }
     }
    },
    "version_major": 2,
    "version_minor": 0
   }
  }
 },
 "nbformat": 4,
 "nbformat_minor": 5
}

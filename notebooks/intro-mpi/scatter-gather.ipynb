{
 "cells": [
  {
   "attachments": {},
   "cell_type": "markdown",
   "id": "f8ed5686",
   "metadata": {},
   "source": [
    "# Scatter and gather\n",
    "Based on: https://medium.com/@mathcube7/parallel-computing-in-python-c55c87c36611\n",
    "\n",
    "We start up the mpi cluster as shown in [Introduction to MPI](./intro-mpi)."
   ]
  },
  {
   "cell_type": "code",
   "execution_count": 1,
   "id": "6b50a74a-5b21-4109-b629-b8bb7860810b",
   "metadata": {},
   "outputs": [
    {
     "name": "stdout",
     "output_type": "stream",
     "text": [
      "Starting 3 engines with <class 'ipyparallel.cluster.launcher.MPIEngineSetLauncher'>\n"
     ]
    },
    {
     "data": {
      "application/vnd.jupyter.widget-view+json": {
       "model_id": "833eb3f3a4d046c39fa6c45327716167",
       "version_major": 2,
       "version_minor": 0
      },
      "text/plain": [
       "  0%|          | 0/3 [00:00<?, ?engine/s]"
      ]
     },
     "metadata": {},
     "output_type": "display_data"
    }
   ],
   "source": [
    "import ipyparallel as ipp\n",
    "cluster = ipp.Cluster(engines=\"mpi\", n=3)\n",
    "rc = cluster.start_and_connect_sync()"
   ]
  },
  {
   "attachments": {},
   "cell_type": "markdown",
   "id": "c1857c67",
   "metadata": {},
   "source": [
    "We next get the comm rank and size."
   ]
  },
  {
   "cell_type": "code",
   "execution_count": 2,
   "id": "2e480f55",
   "metadata": {},
   "outputs": [],
   "source": [
    "%%px\n",
    "comm = MPI.COMM_WORLD\n",
    "size = comm.Get_size()\n",
    "rank = comm.Get_rank()"
   ]
  },
  {
   "attachments": {},
   "cell_type": "markdown",
   "id": "3e615fb9",
   "metadata": {},
   "source": [
    "Next, we create some data on the root rank (chosen to be 0 in this example). This data has to be of the same size as the\n",
    "MPI-communicator, and the `i`th entry will be sent to the `i`-th process."
   ]
  },
  {
   "cell_type": "code",
   "execution_count": 3,
   "id": "37bbde90",
   "metadata": {},
   "outputs": [
    {
     "data": {
      "text/plain": [
       "[stdout:0] Process 0 will send [1, 4, 9] to the other processes\n"
      ]
     },
     "metadata": {},
     "output_type": "display_data"
    }
   ],
   "source": [
    "%%px\n",
    "root = 0\n",
    "if rank == root:\n",
    "    data = [(i+1)**2 for i in range(size)]\n",
    "    print(f\"Process {rank} will send {data} to the other processes\")\n",
    "else:\n",
    "    data = None\n",
    "scattered_data = comm.scatter(data, root=root)\n"
   ]
  },
  {
   "attachments": {},
   "cell_type": "markdown",
   "id": "c3d878c4",
   "metadata": {},
   "source": [
    "Next, we can inspect the scattered data on all different processes"
   ]
  },
  {
   "cell_type": "code",
   "execution_count": 4,
   "id": "cf2f8245",
   "metadata": {},
   "outputs": [
    {
     "data": {
      "text/plain": [
       "[stdout:2] Process 2 received 9\n"
      ]
     },
     "metadata": {},
     "output_type": "display_data"
    },
    {
     "data": {
      "text/plain": [
       "[stdout:1] Process 1 received 4\n"
      ]
     },
     "metadata": {},
     "output_type": "display_data"
    },
    {
     "data": {
      "text/plain": [
       "[stdout:0] Process 0 received 1\n"
      ]
     },
     "metadata": {},
     "output_type": "display_data"
    }
   ],
   "source": [
    "%%px\n",
    "print(f\"Process {rank} received {scattered_data}\")"
   ]
  },
  {
   "attachments": {},
   "cell_type": "markdown",
   "id": "7a767780",
   "metadata": {},
   "source": [
    "We now let each process add the rank of the current process to the received data, and send all these numbers back to the root rank."
   ]
  },
  {
   "cell_type": "code",
   "execution_count": 5,
   "id": "2670135e",
   "metadata": {},
   "outputs": [
    {
     "data": {
      "text/plain": [
       "[stdout:1] Process 1 got None\n"
      ]
     },
     "metadata": {},
     "output_type": "display_data"
    },
    {
     "data": {
      "text/plain": [
       "[stdout:2] Process 2 got None\n"
      ]
     },
     "metadata": {},
     "output_type": "display_data"
    },
    {
     "data": {
      "text/plain": [
       "[stdout:0] Process 0 got [1, 5, 11]\n"
      ]
     },
     "metadata": {},
     "output_type": "display_data"
    }
   ],
   "source": [
    "%%px\n",
    "modified_data = scattered_data + rank\n",
    "gathered_data = comm.gather(modified_data, root=root)\n",
    "print(f\"Process {rank} got {gathered_data}\")"
   ]
  },
  {
   "attachments": {},
   "cell_type": "markdown",
   "id": "37d98f82",
   "metadata": {},
   "source": [
    "# Gather vs gather\n",
    "In the [Send vs send tutorial](../send-vs-send.ipynb), we discussed the usage of `send` vs `Send`.\n",
    "We observed that using `Send`, with pre-allocated arrays is alot faster than using `send`. \n",
    "Of course, pre-allocating an array is also an operation that is costly, and depending on how many times you call the operation."
   ]
  },
  {
   "cell_type": "code",
   "execution_count": 6,
   "id": "3ca8b291",
   "metadata": {},
   "outputs": [],
   "source": [
    "%%px\n",
    "import numpy as np\n",
    "data = None\n",
    "if rank == root:\n",
    "    data = np.arange(comm.size, dtype=np.int32)"
   ]
  },
  {
   "attachments": {},
   "cell_type": "markdown",
   "id": "2798f994",
   "metadata": {},
   "source": [
    "We first call `scatter-gather` as done in the previous section"
   ]
  },
  {
   "cell_type": "code",
   "execution_count": 7,
   "id": "d89cf2da",
   "metadata": {},
   "outputs": [
    {
     "data": {
      "application/vnd.jupyter.widget-view+json": {
       "model_id": "3e9471add8654f1798e99ab0642dae7d",
       "version_major": 2,
       "version_minor": 0
      },
      "text/plain": [
       "%px:   0%|          | 0/3 [00:00<?, ?tasks/s]"
      ]
     },
     "metadata": {},
     "output_type": "display_data"
    },
    {
     "data": {
      "text/plain": [
       "[stdout:1] 97.5 µs ± 1.29 µs per loop (mean ± std. dev. of 7 runs, 10,000 loops each)\n"
      ]
     },
     "metadata": {},
     "output_type": "display_data"
    },
    {
     "data": {
      "text/plain": [
       "[stdout:0] 97.5 µs ± 1.29 µs per loop (mean ± std. dev. of 7 runs, 10,000 loops each)\n"
      ]
     },
     "metadata": {},
     "output_type": "display_data"
    },
    {
     "data": {
      "text/plain": [
       "[stdout:2] 97.5 µs ± 1.29 µs per loop (mean ± std. dev. of 7 runs, 10,000 loops each)\n"
      ]
     },
     "metadata": {},
     "output_type": "display_data"
    }
   ],
   "source": [
    "%%px\n",
    "%%timeit\n",
    "recv_data = comm.scatter(data, root=root)\n",
    "recv_data += 3*rank\n",
    "gth_data = comm.gather(recv_data, root=root)"
   ]
  },
  {
   "attachments": {},
   "cell_type": "markdown",
   "id": "1b653a72",
   "metadata": {},
   "source": [
    "Next, we pre-allocate the recv and gather buffers and time the actions"
   ]
  },
  {
   "cell_type": "code",
   "execution_count": 8,
   "id": "d96484f3",
   "metadata": {},
   "outputs": [
    {
     "data": {
      "application/vnd.jupyter.widget-view+json": {
       "model_id": "8467b52794294b2581034439db607fb6",
       "version_major": 2,
       "version_minor": 0
      },
      "text/plain": [
       "%px:   0%|          | 0/3 [00:00<?, ?tasks/s]"
      ]
     },
     "metadata": {},
     "output_type": "display_data"
    },
    {
     "data": {
      "text/plain": [
       "[stdout:1] 733 ns ± 12.3 ns per loop (mean ± std. dev. of 7 runs, 1,000,000 loops each)\n"
      ]
     },
     "metadata": {},
     "output_type": "display_data"
    },
    {
     "data": {
      "text/plain": [
       "[stdout:2] 802 ns ± 14.1 ns per loop (mean ± std. dev. of 7 runs, 1,000,000 loops each)\n"
      ]
     },
     "metadata": {},
     "output_type": "display_data"
    },
    {
     "data": {
      "text/plain": [
       "[stdout:0] 877 ns ± 22.3 ns per loop (mean ± std. dev. of 7 runs, 1,000,000 loops each)\n"
      ]
     },
     "metadata": {},
     "output_type": "display_data"
    }
   ],
   "source": [
    "%%px\n",
    "%%timeit\n",
    "recv_buffer = np.empty(1, dtype=np.int32)\n",
    "gth_size = comm.size if rank == 0 else 0\n",
    "gth_buffer = np.empty(gth_size, dtype=np.int32)"
   ]
  },
  {
   "attachments": {},
   "cell_type": "markdown",
   "id": "f78e222c",
   "metadata": {},
   "source": [
    "As the variables decleared in the `%%timeit` magic are not persited through the notebook, we re-declare the variable."
   ]
  },
  {
   "cell_type": "code",
   "execution_count": 9,
   "id": "de126dc6",
   "metadata": {},
   "outputs": [],
   "source": [
    "%%px\n",
    "recv_buffer = np.empty(1, dtype=np.int32)\n",
    "gth_size = comm.size if rank == 0 else 0\n",
    "gth_buffer = np.empty(gth_size, dtype=np.int32)"
   ]
  },
  {
   "attachments": {},
   "cell_type": "markdown",
   "id": "537e25f7",
   "metadata": {},
   "source": [
    "Next, we time the allocated `Scatter` and `Gather` calls"
   ]
  },
  {
   "cell_type": "code",
   "execution_count": 10,
   "id": "aa57f0fc",
   "metadata": {},
   "outputs": [
    {
     "data": {
      "application/vnd.jupyter.widget-view+json": {
       "model_id": "732b930a401b486a8e3b7315882a7529",
       "version_major": 2,
       "version_minor": 0
      },
      "text/plain": [
       "%px:   0%|          | 0/3 [00:00<?, ?tasks/s]"
      ]
     },
     "metadata": {},
     "output_type": "display_data"
    },
    {
     "data": {
      "text/plain": [
       "[stdout:0] 15.1 µs ± 406 ns per loop (mean ± std. dev. of 7 runs, 100,000 loops each)\n"
      ]
     },
     "metadata": {},
     "output_type": "display_data"
    },
    {
     "data": {
      "text/plain": [
       "[stdout:2] 15.1 µs ± 406 ns per loop (mean ± std. dev. of 7 runs, 100,000 loops each)\n"
      ]
     },
     "metadata": {},
     "output_type": "display_data"
    },
    {
     "data": {
      "text/plain": [
       "[stdout:1] 15.1 µs ± 406 ns per loop (mean ± std. dev. of 7 runs, 100,000 loops each)\n"
      ]
     },
     "metadata": {},
     "output_type": "display_data"
    }
   ],
   "source": [
    "%%px\n",
    "%%timeit\n",
    "comm.Scatter(data, recv_buffer, root=root)\n",
    "recv_buffer[:] = recv_buffer[:] + 3*rank\n",
    "comm.Gather(recv_buffer, gth_buffer, root=root)"
   ]
  },
  {
   "attachments": {},
   "cell_type": "markdown",
   "id": "bbe100bf",
   "metadata": {},
   "source": [
    "We also note that `Scatter` and `Gather` is significantly faster than its non-captialized counterparts. However, if you only call this operation once, the total run-time of a more complex problem is not going to be very affected by the optimized calls."
   ]
  }
 ],
 "metadata": {
  "kernelspec": {
   "display_name": "Python 3 (ipykernel)",
   "language": "python",
   "name": "python3"
  },
  "language_info": {
   "codemirror_mode": {
    "name": "ipython",
    "version": 3
   },
   "file_extension": ".py",
   "mimetype": "text/x-python",
   "name": "python",
   "nbconvert_exporter": "python",
   "pygments_lexer": "ipython3",
   "version": "3.10.13"
  }
 },
 "nbformat": 4,
 "nbformat_minor": 5
}

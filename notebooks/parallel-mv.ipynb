{
 "cells": [
  {
   "cell_type": "markdown",
   "id": "67be6ddc-7a97-4022-9004-60e526f6ec3e",
   "metadata": {},
   "source": [
    "## MPI Index maps and parallel matrix-vector product in dolfinx/python\n",
    "\n",
    "In this notebook we implement matrix-vector multiplication with MPI. \n",
    "\n",
    "1. For both matrices and vectors, we construct index maps and use that to distribute values. Basically, we create an IndexMap to describe the distribution scheme we want, and then we use the IndexMap to create objects (such as vectors and matrices) that have this distribution. \n",
    "\n",
    "2. After we define IndexMap and distributed objects we need, we show some basic arithmetic with those objects, such as adding vectors and matrix-vector product."
   ]
  },
  {
   "cell_type": "markdown",
   "id": "c438025c-6b37-46af-bc44-9ec54649cbbc",
   "metadata": {},
   "source": [
    "First, we create a cluster and activate mpi engine. For now, we start with n=3 processors."
   ]
  },
  {
   "cell_type": "code",
   "execution_count": 47,
   "id": "f5c213f3-9d8d-41c3-9b4d-0623147d241d",
   "metadata": {
    "tags": []
   },
   "outputs": [
    {
     "name": "stdout",
     "output_type": "stream",
     "text": [
      "\n",
      "  0%|                                                            | 0/3 [00:00<?, ?engine/s]\u001b[A\n",
      "100%|████████████████████████████████████████████████████| 3/3 [00:05<00:00,  1.89s/engine]\u001b[A\n"
     ]
    }
   ],
   "source": [
    "import logging\n",
    "import ipyparallel as ipp\n",
    "\n",
    "# create a cluster\n",
    "cluster = ipp.Cluster(engines=\"mpi\", n=3, log_level=logging.WARNING)\n",
    "rc = cluster.start_and_connect_sync(activate=True)"
   ]
  },
  {
   "cell_type": "code",
   "execution_count": 48,
   "id": "7c770245-6d39-449f-8a28-a6e0aabe62a4",
   "metadata": {
    "tags": []
   },
   "outputs": [
    {
     "data": {
      "text/plain": [
       "[stdout:0] I am rank 0 / 3\n"
      ]
     },
     "metadata": {},
     "output_type": "display_data"
    },
    {
     "data": {
      "text/plain": [
       "[stdout:2] I am rank 2 / 3\n"
      ]
     },
     "metadata": {},
     "output_type": "display_data"
    },
    {
     "data": {
      "text/plain": [
       "[stdout:1] I am rank 1 / 3\n"
      ]
     },
     "metadata": {},
     "output_type": "display_data"
    }
   ],
   "source": [
    "%%px\n",
    "# Create MPI communicator, find out rank, size\n",
    "from mpi4py import MPI\n",
    "\n",
    "comm = MPI.COMM_WORLD\n",
    "world_rank = comm.Get_rank()\n",
    "world_size = comm.Get_size()\n",
    "print(f\"I am rank {world_rank} / {world_size}\")"
   ]
  },
  {
   "cell_type": "markdown",
   "id": "79ee17e3-55fd-45ab-a3d0-caa8a0bbd73a",
   "metadata": {},
   "source": [
    "We want to create an overlapping, ie ghosted, index map for our vectors and matrices. (see [dolfinx implementation](https://github.com/FEniCS/dolfinx/blob/160ed13eb476df99944072aec70bd46a6fcb9bcf/cpp/dolfinx/common/IndexMap.cpp))\n",
    "\n",
    "An index map defines how we distribute degrees of freedoms (dofs) of a vector/array over processors. An overlapping map takes into account that some dofs are shared between processors, and these dofs are called *ghosts*. We can use ghosts to communicate/exchange data over different processors. Every ghost has its *owner*, ie rank/processor that owns that dof.\n",
    "\n",
    "To create an index map, what we need is:\n",
    "- MPI communicator\n",
    "- local size of the index map (number of owned entries)\n",
    "- global indices of ghost entries\n",
    "- owner rank of each ghost entry on global communicator\n",
    "\n",
    "In the index map, we construct:\n",
    "- **source ranks** - ranks that own indices ghosted by the caller\n",
    "- **destination ranks** - ranks that ghost indices owned by the caller\n",
    "- **forward communicator** - \n",
    "- **reverse communicator** - \n"
   ]
  },
  {
   "cell_type": "code",
   "execution_count": 49,
   "id": "45e9048e-f418-461b-bdd6-de02e4c97408",
   "metadata": {
    "tags": []
   },
   "outputs": [],
   "source": [
    "def is_sorted(lst):\n",
    "    return all(a <= b for a, b in zip(lst, lst[1:]))"
   ]
  },
  {
   "cell_type": "code",
   "execution_count": 50,
   "id": "85aad8af-abbb-4152-ac4b-05b99cf6600f",
   "metadata": {
    "tags": []
   },
   "outputs": [],
   "source": [
    "%%px\n",
    "class IndexMap():\n",
    "    def __init__(self, comm, local_size, ghosts, owners):\n",
    "        # fixme: perhaps hide these and use special methods to access\n",
    "        # assume ghosts and owners are of type list\n",
    "        assert len(ghosts) == len(owners)\n",
    "        \n",
    "        self.comm = comm\n",
    "        self.forward_comm = None\n",
    "        self.reverse_comm = None\n",
    "        self.ghosts = ghosts\n",
    "        self.owners = owners\n",
    "        self.local_size = local_size\n",
    "        \n",
    "        # Get global size\n",
    "        self.global_size = 0\n",
    "        self.compute_size_global()\n",
    "        \n",
    "        # Get local range of the index map\n",
    "        self.local_range = None\n",
    "        self.compute_local_range()\n",
    "        \n",
    "        # Get lists of sources and destinations\n",
    "        self.sources = None\n",
    "        self.destinations = None\n",
    "        self.compute_src_dest()\n",
    "        \n",
    "    def compute_src_dest(self):\n",
    "        dest_ranks = np.unique(self.owners)\n",
    "        print(f\"Rank={self.comm.rank}, destinations={dest_ranks}\")\n",
    "        \n",
    "        # create lists of source and destination ranks and the forward communicator that pushes data from sources to destinations\n",
    "        self.forward_comm = self.comm.Create_dist_graph([self.comm.rank], [len(dest_ranks)], dest_ranks.tolist(), reorder=False)\n",
    "        src, dest, _ = self.forward_comm.Get_dist_neighbors()\n",
    "        \n",
    "        # create the reverse communicator that pushes data back from destinations to sources\n",
    "        self.reverse_comm = comm.Create_dist_graph_adjacent(dest, src, reorder=False)\n",
    "        src2, dest2, _ = self.reverse_comm.Get_dist_neighbors()\n",
    "        \n",
    "        # check the lists these communicators have are the same\n",
    "        print(f\"{src=}, {src2=}\")\n",
    "        print(f\"{dest=}, {dest2=}\")\n",
    "        # assume src and dest are lists\n",
    "        # assert is_sorted(src)\n",
    "        # assert is_sorted(dest)\n",
    "        \n",
    "        self.sources = src\n",
    "        self.destinations = dest\n",
    "        \n",
    "    def local_to_global(self, local_ind):\n",
    "        # todo\n",
    "        return NotImplemented\n",
    "    \n",
    "    def compute_size_global(self):\n",
    "        # sum up local sizes to get global size (cummulative?)\n",
    "        self.global_size = self.comm.allreduce([self.local_size], op=MPI.SUM)\n",
    "        \n",
    "    def compute_local_range(self):\n",
    "        # compute offset (returns list?)\n",
    "        offset = self.comm.exscan([self.local_size], op=MPI.SUM)\n",
    "        # if we're at rank 0, then offset is None and local range is (0, local_size); \n",
    "        # otherwise it's offset by some number\n",
    "        if offset is None:\n",
    "            self.local_range = (0, self.local_size)\n",
    "        else: \n",
    "            print(f\"{offset=}\")\n",
    "            self.local_range = (offset[0], offset[0] + self.local_size)\n"
   ]
  },
  {
   "cell_type": "code",
   "execution_count": 51,
   "id": "4921d4ab-63d8-4f08-ac84-965e01d6b70c",
   "metadata": {
    "tags": []
   },
   "outputs": [
    {
     "data": {
      "text/plain": [
       "[stdout:0] Rank=0, destinations=[1]\n",
       "src=[1, 2], src2=[1]\n",
       "dest=[1], dest2=[1, 2]\n"
      ]
     },
     "metadata": {},
     "output_type": "display_data"
    },
    {
     "data": {
      "text/plain": [
       "[stdout:2] offset=[50, 150]\n",
       "Rank=2, destinations=[0]\n",
       "src=[], src2=[0]\n",
       "dest=[0], dest2=[]\n"
      ]
     },
     "metadata": {},
     "output_type": "display_data"
    },
    {
     "data": {
      "text/plain": [
       "[stdout:1] offset=[50]\n",
       "Rank=1, destinations=[0]\n",
       "src=[0], src2=[0]\n",
       "dest=[0], dest2=[0]\n"
      ]
     },
     "metadata": {},
     "output_type": "display_data"
    }
   ],
   "source": [
    "%%px\n",
    "import numpy as np\n",
    "\n",
    "# set up some Index Map over range(200)\n",
    "if comm.rank == 0:\n",
    "    IM = IndexMap(comm, 50, range(50, 200), list(np.ones(150, dtype=np.int32)))\n",
    "elif comm.rank == 1:\n",
    "    IM = IndexMap(comm, 150, range(50), list(np.zeros(50, dtype=np.int32)))\n",
    "elif comm.rank == 2:\n",
    "    IM = IndexMap(comm, 33, range(5), list(np.zeros(5, dtype=np.int32)))\n",
    "else:\n",
    "    raise RuntimeError(\"Too many processors!\")"
   ]
  },
  {
   "cell_type": "code",
   "execution_count": 52,
   "id": "9e3eb519-8fda-4274-a56d-59fc5658d29d",
   "metadata": {
    "tags": []
   },
   "outputs": [
    {
     "data": {
      "text/plain": [
       "[stdout:0] 0\n",
       "50\n",
       "(0, 50)\n",
       "[1, 2] [1]\n"
      ]
     },
     "metadata": {},
     "output_type": "display_data"
    },
    {
     "data": {
      "text/plain": [
       "[stdout:1] 1\n",
       "150\n",
       "(50, 200)\n",
       "[0] [0]\n"
      ]
     },
     "metadata": {},
     "output_type": "display_data"
    },
    {
     "data": {
      "text/plain": [
       "[stdout:2] 2\n",
       "33\n",
       "(50, 83)\n",
       "[] [0]\n"
      ]
     },
     "metadata": {},
     "output_type": "display_data"
    }
   ],
   "source": [
    "%%px\n",
    "# Let's check if everything makes sense\n",
    "print(IM.comm.rank)\n",
    "print(IM.local_size)\n",
    "print(IM.local_range)\n",
    "print(IM.sources, IM.destinations)"
   ]
  },
  {
   "cell_type": "markdown",
   "id": "83c31be5-648c-4138-9146-0316bec51132",
   "metadata": {},
   "source": [
    "\n",
    "\n",
    "Now we want to use this index map for dolfinx objects (vectors, matrices)\n",
    "\n"
   ]
  },
  {
   "cell_type": "code",
   "execution_count": 53,
   "id": "4c8eeb31-de46-4765-9997-9c27970683fc",
   "metadata": {
    "tags": []
   },
   "outputs": [
    {
     "data": {
      "text/plain": [
       "[stdout:1] offset=[1]\n",
       "Rank=1, destinations=[2]\n",
       "src=[0], src2=[2]\n",
       "dest=[2], dest2=[0]\n"
      ]
     },
     "metadata": {},
     "output_type": "display_data"
    },
    {
     "data": {
      "text/plain": [
       "[stdout:2] offset=[1, 3]\n",
       "Rank=2, destinations=[]\n",
       "src=[1, 0], src2=[]\n",
       "dest=[], dest2=[1, 0]\n"
      ]
     },
     "metadata": {},
     "output_type": "display_data"
    },
    {
     "data": {
      "text/plain": [
       "[stdout:0] Rank=0, destinations=[1 2]\n",
       "src=[], src2=[1, 2]\n",
       "dest=[1, 2], dest2=[]\n"
      ]
     },
     "metadata": {},
     "output_type": "display_data"
    }
   ],
   "source": [
    "%%px\n",
    "import dolfin as df\n",
    "# from petsc4py import PETSc\n",
    "\n",
    "def create_indexmap(V):\n",
    "    indexmap = V.dofmap().index_map()\n",
    "    owners = V.dofmap().off_process_owner()\n",
    "    ghosts = indexmap.local_to_global_unowned()\n",
    "    \n",
    "    return IndexMap(comm, indexmap.size(df.IndexMap.MapSize.OWNED), ghosts, owners)\n",
    "\n",
    "mesh = df.UnitSquareMesh(2,2)\n",
    "V = df.FunctionSpace(mesh, 'CG', 1)\n",
    "\n",
    "# create an index map from whatever dolfin made into a dofmap (namely, index map)\n",
    "new_im = create_indexmap(V)"
   ]
  },
  {
   "cell_type": "code",
   "execution_count": 54,
   "id": "343bdf99-4154-40f1-b3b0-1377f4c3a5cf",
   "metadata": {
    "tags": []
   },
   "outputs": [
    {
     "data": {
      "text/plain": [
       "[stdout:1] [0.5 0.  1.5 0.5 1.  2. ]\n",
       "1\n",
       "[2.405e+03 0.000e+00 2.405e+03 5.000e-01 2.405e+03 2.000e+00]\n"
      ]
     },
     "metadata": {},
     "output_type": "display_data"
    },
    {
     "data": {
      "text/plain": [
       "[stdout:2] [2.  1.  1.5 0.5 1. ]\n",
       "2\n",
       "[2.000e+00 2.405e+03 1.500e+00 5.000e-01 1.000e+00]\n"
      ]
     },
     "metadata": {},
     "output_type": "display_data"
    },
    {
     "data": {
      "text/plain": [
       "[stdout:0] [1.  0.5 1.5 1. ]\n",
       "0\n",
       "[2405. 2405. 2405. 2405.]\n"
      ]
     },
     "metadata": {},
     "output_type": "display_data"
    }
   ],
   "source": [
    "%%px\n",
    "# Create a vector and edit its value only on rank 0\n",
    "# See if the updated values on ghosts dofs are also updated on their respective owner ranks\n",
    "u = df.Function(V)\n",
    "u.interpolate(df.Expression(\"x[0]+x[1]\", degree=1))\n",
    "uu = u.vector().get_local(np.arange(new_im.local_size+len(new_im.ghosts)))\n",
    "print(uu)\n",
    "\n",
    "if comm.rank == 0:\n",
    "    uu[:] = 2405\n",
    "    u.vector().set_local(uu[:])\n",
    "    # print(uu)\n",
    "\n",
    "print(comm.rank)\n",
    "u.vector().apply(\"insert\")\n",
    "print(u.vector().get_local(np.arange(new_im.local_size+len(new_im.ghosts))))"
   ]
  },
  {
   "cell_type": "code",
   "execution_count": 55,
   "id": "1338b31e-da2b-4f1e-ad21-10a9bbd71876",
   "metadata": {
    "tags": []
   },
   "outputs": [
    {
     "data": {
      "text/plain": [
       "[stdout:0] new_im.local_size=1, new_im.ghosts=array([1, 3, 5], dtype=uint64)\n"
      ]
     },
     "metadata": {},
     "output_type": "display_data"
    },
    {
     "data": {
      "text/plain": [
       "[stdout:2] new_im.local_size=5, new_im.ghosts=array([], dtype=uint64)\n"
      ]
     },
     "metadata": {},
     "output_type": "display_data"
    },
    {
     "data": {
      "text/plain": [
       "[stdout:1] new_im.local_size=3, new_im.ghosts=array([7, 5, 4], dtype=uint64)\n"
      ]
     },
     "metadata": {},
     "output_type": "display_data"
    }
   ],
   "source": [
    "%%px\n",
    "print(f\"{new_im.local_size=}, {new_im.ghosts=}\")"
   ]
  },
  {
   "cell_type": "code",
   "execution_count": 56,
   "id": "774f3fbe-3904-441b-a47a-44cec53ab2a1",
   "metadata": {
    "tags": []
   },
   "outputs": [
    {
     "data": {
      "text/plain": [
       "[stdout:0] comm.rank=0\n",
       "w= [3950.2  3950.2  3950.7  3950.45]\n",
       "q= [3950.2  3950.2  3950.7  3950.45]\n"
      ]
     },
     "metadata": {},
     "output_type": "display_data"
    },
    {
     "data": {
      "text/plain": [
       "[stdout:1] comm.rank=1\n",
       "w= [3950.2  3950.2  3950.7  3950.2  3950.45 3951.2 ]\n",
       "q= [3950.2  3950.2  3950.7  3950.2  3950.45 3951.2 ]\n"
      ]
     },
     "metadata": {},
     "output_type": "display_data"
    },
    {
     "data": {
      "text/plain": [
       "[stdout:2] comm.rank=2\n",
       "w= [3951.2  3950.45 3950.7  3950.2  3950.2 ]\n",
       "q= [3951.2  3950.45 3950.7  3950.2  3950.2 ]\n"
      ]
     },
     "metadata": {},
     "output_type": "display_data"
    }
   ],
   "source": [
    "%%px\n",
    "# Implement vector addition z = alpha * x + y\n",
    "def axpy(alpha, x, y):\n",
    "    xa = x.vector().get_local(np.arange(new_im.local_size))\n",
    "    ya = y.vector().get_local(np.arange(new_im.local_size))\n",
    "    # Use own index map for scatter_reverse add values\n",
    "    z = df.Function(V)\n",
    "    z.vector().set_local(alpha*xa+ya)\n",
    "    z.vector().apply(\"insert\")\n",
    "\n",
    "    return z\n",
    "\n",
    "def getl(x):\n",
    "    return x.vector().get_local(np.arange(new_im.local_size+len(new_im.ghosts)))\n",
    "\n",
    "v = df.Function(V)\n",
    "v.interpolate(df.Expression(\"x[0]*x[1]\", degree=2))\n",
    "u = df.Function(V)\n",
    "u.interpolate(df.Expression(\"39502\", degree=1))\n",
    "\n",
    "w = axpy(0.1, u, v)\n",
    "print(f\"{comm.rank=}\")\n",
    "print(\"w=\", getl(w))\n",
    "\n",
    "# Check if we get the same with dolfin\n",
    "q = df.Function(V)\n",
    "q.interpolate(df.Expression(\"0.1*39502 + x[0]*x[1]\", degree=2))\n",
    "print(\"q=\", getl(q))"
   ]
  },
  {
   "cell_type": "markdown",
   "id": "6f2fe836-3712-42c4-9746-537e50f77b27",
   "metadata": {
    "tags": []
   },
   "source": [
    "Now that we have vectors and their addition working in parallel, we set up distributed (square) CSR matrices. We will need one index map for both rows and columns (same size)."
   ]
  },
  {
   "cell_type": "code",
   "execution_count": 60,
   "id": "b4e9459c-eb5f-4b72-a03b-fe099809356f",
   "metadata": {
    "tags": []
   },
   "outputs": [],
   "source": [
    "%%px\n",
    "u, v = df.TrialFunction(V), df.TestFunction(V)\n",
    "a = df.inner(u, v) * df.dx + df.inner(df.grad(u), df.grad(v)) * df.dx\n",
    "A = df.assemble(a)\n",
    "Amat = df.as_backend_type(A).mat()"
   ]
  },
  {
   "cell_type": "code",
   "execution_count": 65,
   "id": "8ce989ad-74d5-4157-8f17-9c47661cf06c",
   "metadata": {
    "tags": []
   },
   "outputs": [
    {
     "name": "stderr",
     "output_type": "stream",
     "text": [
      "[2:execute]\n",
      "\u001b[0;31m---------------------------------------------------------------------------\u001b[0m\n",
      "\u001b[0;31mIndexError\u001b[0m                                Traceback (most recent call last)\n",
      "\u001b[0;32m/tmp/ipykernel_98769/4120170664.py\u001b[0m in \u001b[0;36m<module>\u001b[0;34m\u001b[0m\n",
      "\u001b[1;32m     33\u001b[0m \u001b[0mv\u001b[0m\u001b[0;34m.\u001b[0m\u001b[0minterpolate\u001b[0m\u001b[0;34m(\u001b[0m\u001b[0mdf\u001b[0m\u001b[0;34m.\u001b[0m\u001b[0mExpression\u001b[0m\u001b[0;34m(\u001b[0m\u001b[0;34m\"1\"\u001b[0m\u001b[0;34m,\u001b[0m \u001b[0mdegree\u001b[0m\u001b[0;34m=\u001b[0m\u001b[0;36m1\u001b[0m\u001b[0;34m)\u001b[0m\u001b[0;34m)\u001b[0m\u001b[0;34m\u001b[0m\u001b[0;34m\u001b[0m\u001b[0m\n",
      "\u001b[1;32m     34\u001b[0m \u001b[0;34m\u001b[0m\u001b[0m\n",
      "\u001b[0;32m---> 35\u001b[0;31m \u001b[0mw\u001b[0m \u001b[0;34m=\u001b[0m \u001b[0mmv\u001b[0m\u001b[0;34m(\u001b[0m\u001b[0mAmat\u001b[0m\u001b[0;34m,\u001b[0m \u001b[0mv\u001b[0m\u001b[0;34m.\u001b[0m\u001b[0mvector\u001b[0m\u001b[0;34m(\u001b[0m\u001b[0;34m)\u001b[0m\u001b[0;34m)\u001b[0m\u001b[0;34m\u001b[0m\u001b[0;34m\u001b[0m\u001b[0m\n",
      "\u001b[0m\u001b[1;32m     36\u001b[0m \u001b[0mprint\u001b[0m\u001b[0;34m(\u001b[0m\u001b[0;34mf\"{comm.rank=}\"\u001b[0m\u001b[0;34m)\u001b[0m\u001b[0;34m\u001b[0m\u001b[0;34m\u001b[0m\u001b[0m\n",
      "\u001b[1;32m     37\u001b[0m \u001b[0mprint\u001b[0m\u001b[0;34m(\u001b[0m\u001b[0;34m\"w=\"\u001b[0m\u001b[0;34m,\u001b[0m \u001b[0mgetl\u001b[0m\u001b[0;34m(\u001b[0m\u001b[0mw\u001b[0m\u001b[0;34m)\u001b[0m\u001b[0;34m)\u001b[0m\u001b[0;34m\u001b[0m\u001b[0;34m\u001b[0m\u001b[0m\n",
      "\n",
      "\u001b[0;32m/tmp/ipykernel_98769/4120170664.py\u001b[0m in \u001b[0;36mmv\u001b[0;34m(Amat, x)\u001b[0m\n",
      "\u001b[1;32m     22\u001b[0m     \u001b[0;32mfor\u001b[0m \u001b[0mi\u001b[0m \u001b[0;32min\u001b[0m \u001b[0mrow_range\u001b[0m\u001b[0;34m:\u001b[0m\u001b[0;34m\u001b[0m\u001b[0;34m\u001b[0m\u001b[0m\n",
      "\u001b[1;32m     23\u001b[0m         \u001b[0;32mfor\u001b[0m \u001b[0mj\u001b[0m \u001b[0;32min\u001b[0m \u001b[0mrange\u001b[0m\u001b[0;34m(\u001b[0m\u001b[0mcsr\u001b[0m\u001b[0;34m[\u001b[0m\u001b[0;36m0\u001b[0m\u001b[0;34m]\u001b[0m\u001b[0;34m[\u001b[0m\u001b[0mi\u001b[0m\u001b[0;34m]\u001b[0m\u001b[0;34m,\u001b[0m \u001b[0mcsr\u001b[0m\u001b[0;34m[\u001b[0m\u001b[0;36m0\u001b[0m\u001b[0;34m]\u001b[0m\u001b[0;34m[\u001b[0m\u001b[0mi\u001b[0m\u001b[0;34m+\u001b[0m\u001b[0;36m1\u001b[0m\u001b[0;34m]\u001b[0m\u001b[0;34m)\u001b[0m\u001b[0;34m:\u001b[0m\u001b[0;34m\u001b[0m\u001b[0;34m\u001b[0m\u001b[0m\n",
      "\u001b[0;32m---> 24\u001b[0;31m             \u001b[0mtemp\u001b[0m\u001b[0;34m[\u001b[0m\u001b[0mi\u001b[0m\u001b[0;34m]\u001b[0m \u001b[0;34m+=\u001b[0m \u001b[0mcsr\u001b[0m\u001b[0;34m[\u001b[0m\u001b[0;36m2\u001b[0m\u001b[0;34m]\u001b[0m\u001b[0;34m[\u001b[0m\u001b[0mj\u001b[0m\u001b[0;34m]\u001b[0m\u001b[0;34m*\u001b[0m\u001b[0mx\u001b[0m\u001b[0;34m[\u001b[0m\u001b[0mcsr\u001b[0m\u001b[0;34m[\u001b[0m\u001b[0;36m1\u001b[0m\u001b[0;34m]\u001b[0m\u001b[0;34m[\u001b[0m\u001b[0mj\u001b[0m\u001b[0;34m]\u001b[0m\u001b[0;34m]\u001b[0m\u001b[0;34m\u001b[0m\u001b[0;34m\u001b[0m\u001b[0m\n",
      "\u001b[0m\u001b[1;32m     25\u001b[0m \u001b[0;34m\u001b[0m\u001b[0m\n",
      "\u001b[1;32m     26\u001b[0m     \u001b[0my\u001b[0m \u001b[0;34m=\u001b[0m \u001b[0mdf\u001b[0m\u001b[0;34m.\u001b[0m\u001b[0mFunction\u001b[0m\u001b[0;34m(\u001b[0m\u001b[0mV\u001b[0m\u001b[0;34m)\u001b[0m\u001b[0;34m\u001b[0m\u001b[0;34m\u001b[0m\u001b[0m\n",
      "\n",
      "\u001b[0;31mIndexError\u001b[0m: Index exceeds (local) size of GenericVector\n",
      "[0:execute]\n",
      "\u001b[0;31m---------------------------------------------------------------------------\u001b[0m\n",
      "\u001b[0;31mIndexError\u001b[0m                                Traceback (most recent call last)\n",
      "\u001b[0;32m/tmp/ipykernel_98767/4120170664.py\u001b[0m in \u001b[0;36m<module>\u001b[0;34m\u001b[0m\n",
      "\u001b[1;32m     33\u001b[0m \u001b[0mv\u001b[0m\u001b[0;34m.\u001b[0m\u001b[0minterpolate\u001b[0m\u001b[0;34m(\u001b[0m\u001b[0mdf\u001b[0m\u001b[0;34m.\u001b[0m\u001b[0mExpression\u001b[0m\u001b[0;34m(\u001b[0m\u001b[0;34m\"1\"\u001b[0m\u001b[0;34m,\u001b[0m \u001b[0mdegree\u001b[0m\u001b[0;34m=\u001b[0m\u001b[0;36m1\u001b[0m\u001b[0;34m)\u001b[0m\u001b[0;34m)\u001b[0m\u001b[0;34m\u001b[0m\u001b[0;34m\u001b[0m\u001b[0m\n",
      "\u001b[1;32m     34\u001b[0m \u001b[0;34m\u001b[0m\u001b[0m\n",
      "\u001b[0;32m---> 35\u001b[0;31m \u001b[0mw\u001b[0m \u001b[0;34m=\u001b[0m \u001b[0mmv\u001b[0m\u001b[0;34m(\u001b[0m\u001b[0mAmat\u001b[0m\u001b[0;34m,\u001b[0m \u001b[0mv\u001b[0m\u001b[0;34m.\u001b[0m\u001b[0mvector\u001b[0m\u001b[0;34m(\u001b[0m\u001b[0;34m)\u001b[0m\u001b[0;34m)\u001b[0m\u001b[0;34m\u001b[0m\u001b[0;34m\u001b[0m\u001b[0m\n",
      "\u001b[0m\u001b[1;32m     36\u001b[0m \u001b[0mprint\u001b[0m\u001b[0;34m(\u001b[0m\u001b[0;34mf\"{comm.rank=}\"\u001b[0m\u001b[0;34m)\u001b[0m\u001b[0;34m\u001b[0m\u001b[0;34m\u001b[0m\u001b[0m\n",
      "\u001b[1;32m     37\u001b[0m \u001b[0mprint\u001b[0m\u001b[0;34m(\u001b[0m\u001b[0;34m\"w=\"\u001b[0m\u001b[0;34m,\u001b[0m \u001b[0mgetl\u001b[0m\u001b[0;34m(\u001b[0m\u001b[0mw\u001b[0m\u001b[0;34m)\u001b[0m\u001b[0;34m)\u001b[0m\u001b[0;34m\u001b[0m\u001b[0;34m\u001b[0m\u001b[0m\n",
      "\n",
      "\u001b[0;32m/tmp/ipykernel_98767/4120170664.py\u001b[0m in \u001b[0;36mmv\u001b[0;34m(Amat, x)\u001b[0m\n",
      "\u001b[1;32m     22\u001b[0m     \u001b[0;32mfor\u001b[0m \u001b[0mi\u001b[0m \u001b[0;32min\u001b[0m \u001b[0mrow_range\u001b[0m\u001b[0;34m:\u001b[0m\u001b[0;34m\u001b[0m\u001b[0;34m\u001b[0m\u001b[0m\n",
      "\u001b[1;32m     23\u001b[0m         \u001b[0;32mfor\u001b[0m \u001b[0mj\u001b[0m \u001b[0;32min\u001b[0m \u001b[0mrange\u001b[0m\u001b[0;34m(\u001b[0m\u001b[0mcsr\u001b[0m\u001b[0;34m[\u001b[0m\u001b[0;36m0\u001b[0m\u001b[0;34m]\u001b[0m\u001b[0;34m[\u001b[0m\u001b[0mi\u001b[0m\u001b[0;34m]\u001b[0m\u001b[0;34m,\u001b[0m \u001b[0mcsr\u001b[0m\u001b[0;34m[\u001b[0m\u001b[0;36m0\u001b[0m\u001b[0;34m]\u001b[0m\u001b[0;34m[\u001b[0m\u001b[0mi\u001b[0m\u001b[0;34m+\u001b[0m\u001b[0;36m1\u001b[0m\u001b[0;34m]\u001b[0m\u001b[0;34m)\u001b[0m\u001b[0;34m:\u001b[0m\u001b[0;34m\u001b[0m\u001b[0;34m\u001b[0m\u001b[0m\n",
      "\u001b[0;32m---> 24\u001b[0;31m             \u001b[0mtemp\u001b[0m\u001b[0;34m[\u001b[0m\u001b[0mi\u001b[0m\u001b[0;34m]\u001b[0m \u001b[0;34m+=\u001b[0m \u001b[0mcsr\u001b[0m\u001b[0;34m[\u001b[0m\u001b[0;36m2\u001b[0m\u001b[0;34m]\u001b[0m\u001b[0;34m[\u001b[0m\u001b[0mj\u001b[0m\u001b[0;34m]\u001b[0m\u001b[0;34m*\u001b[0m\u001b[0mx\u001b[0m\u001b[0;34m[\u001b[0m\u001b[0mcsr\u001b[0m\u001b[0;34m[\u001b[0m\u001b[0;36m1\u001b[0m\u001b[0;34m]\u001b[0m\u001b[0;34m[\u001b[0m\u001b[0mj\u001b[0m\u001b[0;34m]\u001b[0m\u001b[0;34m]\u001b[0m\u001b[0;34m\u001b[0m\u001b[0;34m\u001b[0m\u001b[0m\n",
      "\u001b[0m\u001b[1;32m     25\u001b[0m \u001b[0;34m\u001b[0m\u001b[0m\n",
      "\u001b[1;32m     26\u001b[0m     \u001b[0my\u001b[0m \u001b[0;34m=\u001b[0m \u001b[0mdf\u001b[0m\u001b[0;34m.\u001b[0m\u001b[0mFunction\u001b[0m\u001b[0;34m(\u001b[0m\u001b[0mV\u001b[0m\u001b[0;34m)\u001b[0m\u001b[0;34m\u001b[0m\u001b[0;34m\u001b[0m\u001b[0m\n",
      "\n",
      "\u001b[0;31mIndexError\u001b[0m: Index exceeds (local) size of GenericVector\n",
      "[1:execute]\n",
      "\u001b[0;31m---------------------------------------------------------------------------\u001b[0m\n",
      "\u001b[0;31mIndexError\u001b[0m                                Traceback (most recent call last)\n",
      "\u001b[0;32m/tmp/ipykernel_98768/4120170664.py\u001b[0m in \u001b[0;36m<module>\u001b[0;34m\u001b[0m\n",
      "\u001b[1;32m     33\u001b[0m \u001b[0mv\u001b[0m\u001b[0;34m.\u001b[0m\u001b[0minterpolate\u001b[0m\u001b[0;34m(\u001b[0m\u001b[0mdf\u001b[0m\u001b[0;34m.\u001b[0m\u001b[0mExpression\u001b[0m\u001b[0;34m(\u001b[0m\u001b[0;34m\"1\"\u001b[0m\u001b[0;34m,\u001b[0m \u001b[0mdegree\u001b[0m\u001b[0;34m=\u001b[0m\u001b[0;36m1\u001b[0m\u001b[0;34m)\u001b[0m\u001b[0;34m)\u001b[0m\u001b[0;34m\u001b[0m\u001b[0;34m\u001b[0m\u001b[0m\n",
      "\u001b[1;32m     34\u001b[0m \u001b[0;34m\u001b[0m\u001b[0m\n",
      "\u001b[0;32m---> 35\u001b[0;31m \u001b[0mw\u001b[0m \u001b[0;34m=\u001b[0m \u001b[0mmv\u001b[0m\u001b[0;34m(\u001b[0m\u001b[0mAmat\u001b[0m\u001b[0;34m,\u001b[0m \u001b[0mv\u001b[0m\u001b[0;34m.\u001b[0m\u001b[0mvector\u001b[0m\u001b[0;34m(\u001b[0m\u001b[0;34m)\u001b[0m\u001b[0;34m)\u001b[0m\u001b[0;34m\u001b[0m\u001b[0;34m\u001b[0m\u001b[0m\n",
      "\u001b[0m\u001b[1;32m     36\u001b[0m \u001b[0mprint\u001b[0m\u001b[0;34m(\u001b[0m\u001b[0;34mf\"{comm.rank=}\"\u001b[0m\u001b[0;34m)\u001b[0m\u001b[0;34m\u001b[0m\u001b[0;34m\u001b[0m\u001b[0m\n",
      "\u001b[1;32m     37\u001b[0m \u001b[0mprint\u001b[0m\u001b[0;34m(\u001b[0m\u001b[0;34m\"w=\"\u001b[0m\u001b[0;34m,\u001b[0m \u001b[0mgetl\u001b[0m\u001b[0;34m(\u001b[0m\u001b[0mw\u001b[0m\u001b[0;34m)\u001b[0m\u001b[0;34m)\u001b[0m\u001b[0;34m\u001b[0m\u001b[0;34m\u001b[0m\u001b[0m\n",
      "\n",
      "\u001b[0;32m/tmp/ipykernel_98768/4120170664.py\u001b[0m in \u001b[0;36mmv\u001b[0;34m(Amat, x)\u001b[0m\n",
      "\u001b[1;32m     22\u001b[0m     \u001b[0;32mfor\u001b[0m \u001b[0mi\u001b[0m \u001b[0;32min\u001b[0m \u001b[0mrow_range\u001b[0m\u001b[0;34m:\u001b[0m\u001b[0;34m\u001b[0m\u001b[0;34m\u001b[0m\u001b[0m\n",
      "\u001b[1;32m     23\u001b[0m         \u001b[0;32mfor\u001b[0m \u001b[0mj\u001b[0m \u001b[0;32min\u001b[0m \u001b[0mrange\u001b[0m\u001b[0;34m(\u001b[0m\u001b[0mcsr\u001b[0m\u001b[0;34m[\u001b[0m\u001b[0;36m0\u001b[0m\u001b[0;34m]\u001b[0m\u001b[0;34m[\u001b[0m\u001b[0mi\u001b[0m\u001b[0;34m]\u001b[0m\u001b[0;34m,\u001b[0m \u001b[0mcsr\u001b[0m\u001b[0;34m[\u001b[0m\u001b[0;36m0\u001b[0m\u001b[0;34m]\u001b[0m\u001b[0;34m[\u001b[0m\u001b[0mi\u001b[0m\u001b[0;34m+\u001b[0m\u001b[0;36m1\u001b[0m\u001b[0;34m]\u001b[0m\u001b[0;34m)\u001b[0m\u001b[0;34m:\u001b[0m\u001b[0;34m\u001b[0m\u001b[0;34m\u001b[0m\u001b[0m\n",
      "\u001b[0;32m---> 24\u001b[0;31m             \u001b[0mtemp\u001b[0m\u001b[0;34m[\u001b[0m\u001b[0mi\u001b[0m\u001b[0;34m]\u001b[0m \u001b[0;34m+=\u001b[0m \u001b[0mcsr\u001b[0m\u001b[0;34m[\u001b[0m\u001b[0;36m2\u001b[0m\u001b[0;34m]\u001b[0m\u001b[0;34m[\u001b[0m\u001b[0mj\u001b[0m\u001b[0;34m]\u001b[0m\u001b[0;34m*\u001b[0m\u001b[0mx\u001b[0m\u001b[0;34m[\u001b[0m\u001b[0mcsr\u001b[0m\u001b[0;34m[\u001b[0m\u001b[0;36m1\u001b[0m\u001b[0;34m]\u001b[0m\u001b[0;34m[\u001b[0m\u001b[0mj\u001b[0m\u001b[0;34m]\u001b[0m\u001b[0;34m]\u001b[0m\u001b[0;34m\u001b[0m\u001b[0;34m\u001b[0m\u001b[0m\n",
      "\u001b[0m\u001b[1;32m     25\u001b[0m \u001b[0;34m\u001b[0m\u001b[0m\n",
      "\u001b[1;32m     26\u001b[0m     \u001b[0my\u001b[0m \u001b[0;34m=\u001b[0m \u001b[0mdf\u001b[0m\u001b[0;34m.\u001b[0m\u001b[0mFunction\u001b[0m\u001b[0;34m(\u001b[0m\u001b[0mV\u001b[0m\u001b[0;34m)\u001b[0m\u001b[0;34m\u001b[0m\u001b[0;34m\u001b[0m\u001b[0m\n",
      "\n",
      "\u001b[0;31mIndexError\u001b[0m: Index exceeds (local) size of GenericVector\n"
     ]
    },
    {
     "ename": "AlreadyDisplayedError",
     "evalue": "3 errors",
     "output_type": "error",
     "traceback": [
      "3 errors"
     ]
    }
   ],
   "source": [
    "%%px\n",
    "def mv(Amat, x):\n",
    "    \"\"\" \n",
    "    assume square matrix A and vectors x,y of same size\n",
    "    nrow: number of rows\n",
    "    ncol: number of cols\n",
    "    nnz: number of nonzeros\n",
    "    IA: column pointers for each row (size = nrow+1)\n",
    "    JA: column indices (size = nnz)\n",
    "    data: values (size = nnz)\n",
    "    \"\"\"\n",
    "    csr = Amat.getValuesCSR()\n",
    "    \n",
    "    # local_rows = new_im.local_size\n",
    "    local_rows = new_im.local_size\n",
    "    assert local_rows <= Amat.size[0] and local_rows <= Amat.size[1]\n",
    "    \n",
    "    row_range = range(local_rows)\n",
    "\n",
    "    xlocal = x.get_local(row_range)\n",
    "    temp = np.zeros(local_rows)\n",
    "    \n",
    "    for i in row_range:\n",
    "        for j in range(csr[0][i], csr[0][i+1]):\n",
    "            temp[i] += csr[2][j]*x[csr[1][j]]\n",
    "            \n",
    "    y = df.Function(V)\n",
    "    y.vector().set_local(temp)\n",
    "    y.vector().apply(\"insert\")\n",
    "    \n",
    "    return y\n",
    "\n",
    "v = df.Function(V)\n",
    "v.interpolate(df.Expression(\"1\", degree=1))\n",
    "\n",
    "w = mv(Amat, v.vector())\n",
    "print(f\"{comm.rank=}\")\n",
    "print(\"w=\", getl(w))\n",
    "\n",
    "# Check if we get the same with dolfin\n",
    "q = df.Function(V)\n",
    "q = A * v\n",
    "print(\"q=\", getl(q))"
   ]
  },
  {
   "cell_type": "code",
   "execution_count": null,
   "id": "260d33cc-4382-4722-83a5-94ebbbe8d978",
   "metadata": {},
   "outputs": [],
   "source": []
  },
  {
   "cell_type": "code",
   "execution_count": null,
   "id": "2d4139b3-dbe3-4209-b3c8-baf8a770f1d8",
   "metadata": {},
   "outputs": [],
   "source": []
  },
  {
   "cell_type": "code",
   "execution_count": null,
   "id": "ce1f2474-4d57-4085-96eb-f2b057f080bd",
   "metadata": {},
   "outputs": [],
   "source": []
  },
  {
   "cell_type": "code",
   "execution_count": null,
   "id": "683d087a-b274-4cc5-8b33-0ca21a6743fb",
   "metadata": {},
   "outputs": [],
   "source": []
  },
  {
   "cell_type": "code",
   "execution_count": 45,
   "id": "36ba9ed8-70d5-4167-820e-e1b90397dd72",
   "metadata": {
    "tags": []
   },
   "outputs": [
    {
     "name": "stdout",
     "output_type": "stream",
     "text": [
      "engine set stopped 1681394295: {'exit_code': 1, 'pid': 98099, 'identifier': 'ipengine-1681394294-2oc2-1681394295-96128'}\n"
     ]
    }
   ],
   "source": [
    "# Stop cluster\n",
    "cluster.stop_cluster_sync()"
   ]
  },
  {
   "cell_type": "code",
   "execution_count": null,
   "id": "993320dd-deb4-4744-ba46-18f71319209c",
   "metadata": {},
   "outputs": [],
   "source": []
  }
 ],
 "metadata": {
  "kernelspec": {
   "display_name": "Python 3 (ipykernel)",
   "language": "python",
   "name": "python3"
  },
  "language_info": {
   "codemirror_mode": {
    "name": "ipython",
    "version": 3
   },
   "file_extension": ".py",
   "mimetype": "text/x-python",
   "name": "python",
   "nbconvert_exporter": "python",
   "pygments_lexer": "ipython3",
   "version": "3.10.6"
  }
 },
 "nbformat": 4,
 "nbformat_minor": 5
}

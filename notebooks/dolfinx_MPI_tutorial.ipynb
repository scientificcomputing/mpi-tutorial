{
 "cells": [
  {
   "cell_type": "markdown",
   "id": "d29c16a2",
   "metadata": {},
   "source": [
    "# Parallel Computations with Dolfinx using MPI\n",
    "\n",
    "The aim of this tutorial is to show how variational problems can be solved with Python using Dolfinx running in parallel. The Message Passing Interface (MPI) standard will be used to carry out parallel computations. We will use the mpi4py package to interface MPI in Python.\n",
    "\n",
    "First, we will look at some basic examples of MPI usage.\n",
    "\n",
    "Next, we will cover how to define finite element function spaces and functions on several processes.\n",
    "\n",
    "Furthermore, creating and distributing a finite element mesh in parallel will be demonstrated.\n",
    "\n",
    "Finally, the elements of the tutorial are combined to show how the variational problem related to a partial differential equation can be solved in parallel.\n",
    "\n",
    "This tutorial is inspired by and based on https://newfrac.gitlab.io/newfrac-fenicsx-training/05-dolfinx-parallel/dolfinx-parallel.html and https://jsdokken.com/dolfinx_docs/meshes.html.\n"
   ]
  },
  {
   "cell_type": "code",
   "execution_count": 1,
   "id": "a6f541fd",
   "metadata": {
    "tags": []
   },
   "outputs": [],
   "source": [
    "## Parallel programming imports\n",
    "import ipyparallel as ipp\n",
    "from mpi4py import MPI"
   ]
  },
  {
   "cell_type": "markdown",
   "id": "bcfffafd-83ee-4d09-a2db-303070669b0a",
   "metadata": {},
   "source": [
    "## Setting up a cluster\n",
    "ipyparallel is used to set up a local cluster consisting of 2 processors. To run Jupyter Notebook cells in parallel, we use %%px cell magic. To learn more about this, see the first parts of the MPI tutorial ([Introduction to MPI](./intro-mpi/intro-mpi.ipynb)) as well as https://ipyparallel.readthedocs.io/en/latest/tutorial/magics.html#px-cell-magic."
   ]
  },
  {
   "cell_type": "code",
   "execution_count": 3,
   "id": "3c140fdc",
   "metadata": {
    "tags": []
   },
   "outputs": [
    {
     "name": "stdout",
     "output_type": "stream",
     "text": [
      "Starting 2 engines with <class 'ipyparallel.cluster.launcher.MPIEngineSetLauncher'>\n"
     ]
    },
    {
     "data": {
      "application/vnd.jupyter.widget-view+json": {
       "model_id": "340f7a76cd4641e1bf4685025a2d9508",
       "version_major": 2,
       "version_minor": 0
      },
      "text/plain": [
       "  0%|          | 0/2 [00:00<?, ?engine/s]"
      ]
     },
     "metadata": {},
     "output_type": "display_data"
    }
   ],
   "source": [
    "cluster = ipp.Cluster(engines = \"mpi\", n = 2)\n",
    "rc = cluster.start_and_connect_sync()"
   ]
  },
  {
   "cell_type": "markdown",
   "id": "00910f35-9df6-4f43-a7a2-5065b6f1b869",
   "metadata": {},
   "source": [
    "## MPI communication in Dolfinx\n",
    "When constructing a mesh in Dolfinx, the type of communicator must be specified. The mesh is partitioned by distributing the nodes of the mesh over different processes.\n",
    "\n",
    "A parameter 'ghost_mode' must be specified. This determines how shared nodes are distributed as ghost nodes between the processes, i.e. which nodes are owned by the local processes and which nodes are ghost nodes that belong to the neighboring processes. We will used the 'shared_facet' option, where facet nodes are shared after mesh partitioning."
   ]
  },
  {
   "cell_type": "code",
   "execution_count": 4,
   "id": "09fec8d4-2f90-4c5c-89fe-b32e8c78cdf8",
   "metadata": {
    "tags": []
   },
   "outputs": [],
   "source": [
    "%%px\n",
    "import dolfinx as dfx\n",
    "import ufl\n",
    "\n",
    "comm = MPI.COMM_WORLD # MPI communicator\n",
    "\n",
    "# Define a function used to print stuff with the processor rank number in front\n",
    "def mpi_print(s):\n",
    "    print(f\"Rank {comm.rank}: {s}\")\n",
    "\n",
    "Nx, Ny = 2, 2 # Mesh size\n",
    "\n",
    "# Create a unit square mesh\n",
    "mesh = dfx.mesh.create_unit_square(comm, Nx, Ny, ghost_mode = dfx.cpp.mesh.GhostMode.shared_facet)"
   ]
  },
  {
   "cell_type": "markdown",
   "id": "46d4d69d-bcc5-47a1-9560-f24b4c02d535",
   "metadata": {},
   "source": [
    "The connectivity mapping between cells, facets and vertices of the mesh must be created. If the problem at hand does not require e.g. the mapping between cells and facets, one can omit creating the respective connectivity map to save computation time. Let's create the mapping between cells (for the unit square these are of dimension 2) and facets (dimension 1) and print them to see how they are distributed over the two processes"
   ]
  },
  {
   "cell_type": "code",
   "execution_count": 5,
   "id": "6d77bdc4-d4c2-4326-b2ca-ed9b43272229",
   "metadata": {
    "tags": []
   },
   "outputs": [
    {
     "data": {
      "text/plain": [
       "[stdout:0] Cell (dim = 2) to facet (dim = 1) connectivity:\n",
       "Rank 0: <AdjacencyList> with 6 nodes\n",
       "  0: [5 4 0 ]\n",
       "  1: [6 1 5 ]\n",
       "  2: [3 1 2 ]\n",
       "  3: [7 8 6 ]\n",
       "  4: [10 4 9 ]\n",
       "  5: [12 8 11 ]\n",
       "\n"
      ]
     },
     "metadata": {},
     "output_type": "display_data"
    },
    {
     "data": {
      "text/plain": [
       "[stdout:1] Cell (dim = 2) to facet (dim = 1) connectivity:\n",
       "Rank 1: <AdjacencyList> with 6 nodes\n",
       "  0: [0 8 7 ]\n",
       "  1: [2 1 0 ]\n",
       "  2: [4 1 3 ]\n",
       "  3: [6 5 2 ]\n",
       "  4: [9 8 10 ]\n",
       "  5: [12 5 11 ]\n",
       "\n"
      ]
     },
     "metadata": {},
     "output_type": "display_data"
    }
   ],
   "source": [
    "%%px\n",
    "mesh.topology.create_connectivity(2, 1)\n",
    "print(\"Cell (dim = 2) to facet (dim = 1) connectivity:\")\n",
    "mpi_print(mesh.topology.connectivity(2, 1))"
   ]
  },
  {
   "cell_type": "markdown",
   "id": "f6f89363-c8f9-4f02-a634-d9d69b087565",
   "metadata": {},
   "source": [
    "The ghost nodes for each processor rank is stored in the index map of the mesh topology:"
   ]
  },
  {
   "cell_type": "code",
   "execution_count": 6,
   "id": "8d8e71e5-ba72-4aa3-83df-24692e01cab6",
   "metadata": {
    "tags": []
   },
   "outputs": [
    {
     "data": {
      "text/plain": [
       "[stdout:1] Rank 1: Ghost cells (global numbering): [0 3]\n"
      ]
     },
     "metadata": {},
     "output_type": "display_data"
    },
    {
     "data": {
      "text/plain": [
       "[stdout:0] Rank 0: Ghost cells (global numbering): [4 7]\n"
      ]
     },
     "metadata": {},
     "output_type": "display_data"
    }
   ],
   "source": [
    "%%px\n",
    "mpi_print(f\"Ghost cells (global numbering): {mesh.topology.index_map(2).ghosts}\")"
   ]
  },
  {
   "cell_type": "markdown",
   "id": "90adf486-bcba-4259-b93f-77080d9cb6cc",
   "metadata": {
    "tags": []
   },
   "source": [
    "## Dolfinx function spaces\n",
    "The degrees of freedom of a finite element function space in dolfinx is distributed over the nodes of the mesh. To illustrate, we create a function space with 1st order Lagrange elements and print the global and local sizes of the dofmap, as well as the ghost nodes."
   ]
  },
  {
   "cell_type": "code",
   "execution_count": 7,
   "id": "ca8b487d-09e4-45c4-bd90-784f511f74d3",
   "metadata": {
    "tags": []
   },
   "outputs": [
    {
     "data": {
      "text/plain": [
       "[stdout:0] Rank 0: Global dofmap size: 9\n",
       "Rank 0: Local dofmap size: 4\n",
       "Rank 0: Ghosts: [5 8 4 6]\n"
      ]
     },
     "metadata": {},
     "output_type": "display_data"
    },
    {
     "data": {
      "text/plain": [
       "[stdout:1] Rank 1: Global dofmap size: 9\n",
       "Rank 1: Local dofmap size: 5\n",
       "Rank 1: Ghosts: [0 1 2]\n"
      ]
     },
     "metadata": {},
     "output_type": "display_data"
    }
   ],
   "source": [
    "%%px\n",
    "V = dfx.fem.FunctionSpace(mesh, (\"Lagrange\", 1))\n",
    "\n",
    "mpi_print(f\"Global dofmap size: {V.dofmap.index_map.size_global}\")\n",
    "mpi_print(f\"Local dofmap size: {V.dofmap.index_map.size_local}\")\n",
    "mpi_print(f\"Ghosts: {V.dofmap.index_map.ghosts}\")"
   ]
  },
  {
   "cell_type": "markdown",
   "id": "e2a6141a-5fb2-44c8-a8c9-2f1b035039e4",
   "metadata": {},
   "source": [
    "## Dolfinx functions\n",
    "The degrees of freedom of a dolfinx function is distributed over the nodes of the mesh in the same way as function spaces, as the functions created from a function space inherit the dofmap of the space that they live in. We create a function from the previously defined space $V$ and print the size of the array."
   ]
  },
  {
   "cell_type": "code",
   "execution_count": 8,
   "id": "8fa7a806-d9ee-405c-965e-6fec591e028c",
   "metadata": {
    "tags": []
   },
   "outputs": [
    {
     "data": {
      "text/plain": [
       "[stdout:1] Rank 1: Local size of array: 5\n",
       "Rank 1: Global size of array: 9\n"
      ]
     },
     "metadata": {},
     "output_type": "display_data"
    },
    {
     "data": {
      "text/plain": [
       "[stdout:0] Rank 0: Local size of array: 4\n",
       "Rank 0: Global size of array: 9\n"
      ]
     },
     "metadata": {},
     "output_type": "display_data"
    }
   ],
   "source": [
    "%%px\n",
    "u = dfx.fem.Function(V)\n",
    "mpi_print(f\"Local size of array: {u.x.map.size_local}\")\n",
    "mpi_print(f\"Global size of array: {u.x.map.size_global}\")"
   ]
  },
  {
   "cell_type": "markdown",
   "id": "0a3adac5-7d4b-48f8-9254-16ab700310db",
   "metadata": {},
   "source": [
    "Since we have a scalar function, the size of the array of the function values is the same as the number of nodes in the mesh. If we e.g. had a two-dimensional vector function, the size of the array would be double the amount of mesh nodes.\n",
    "\n",
    "We can also print the ghost nodes and the rank of the processor owning the ghost nodes:"
   ]
  },
  {
   "cell_type": "code",
   "execution_count": 9,
   "id": "0699659e-9d73-48d2-a0be-36f3288dedea",
   "metadata": {
    "tags": []
   },
   "outputs": [
    {
     "data": {
      "text/plain": [
       "[stdout:0] Rank 0: Ghosts: [5 8 4 6]\n",
       "Rank 0: Ghost owners: [1 1 1 1]\n"
      ]
     },
     "metadata": {},
     "output_type": "display_data"
    },
    {
     "data": {
      "text/plain": [
       "[stdout:1] Rank 1: Ghosts: [0 1 2]\n",
       "Rank 1: Ghost owners: [0 0 0]\n"
      ]
     },
     "metadata": {},
     "output_type": "display_data"
    }
   ],
   "source": [
    "%%px\n",
    "mpi_print(f\"Ghosts: {u.x.map.ghosts}\")\n",
    "mpi_print(f\"Ghost owners: {u.x.map.owners}\")"
   ]
  },
  {
   "cell_type": "markdown",
   "id": "0f671131-50fe-4aeb-bb00-1454fd3de745",
   "metadata": {},
   "source": [
    "## Assembling scalars, vectors, matrices in parallel\n",
    "To solve continuous problems numerically, we have to assemble a linear system of equations arising from discretization. Assembling scalars, vectors and matrices in dolfinx has to be carried out carefully when using several processes. We have to make sure that the processors communicate changes in values of overlapping nodes. We start by creating trial and test functions $u$ and $v$ from our function space $V$."
   ]
  },
  {
   "cell_type": "code",
   "execution_count": 10,
   "id": "230c3bb9-3b52-4450-870a-f2d8541b6457",
   "metadata": {
    "tags": []
   },
   "outputs": [],
   "source": [
    "%%px\n",
    "\n",
    "# Trial and test functions\n",
    "u = ufl.TrialFunction(V)\n",
    "v = ufl.TestFunction (V)"
   ]
  },
  {
   "cell_type": "markdown",
   "id": "f91f8a76-994c-4c16-9c67-21f9790b73d0",
   "metadata": {},
   "source": [
    "Let us consider a linear form\n",
    "\\begin{equation}\n",
    "L(v) = \\int_{\\Omega}f v dx\n",
    "\\end{equation}\n",
    "where $v$ is a test function, $\\Omega$ is the domain that we have discretized with our mesh and $f$ is a scalar-valued function. The test function is discretized with 1st order continuous Lagrange elements, and to assemble it as a vector we can run"
   ]
  },
  {
   "cell_type": "code",
   "execution_count": 11,
   "id": "3f8dbf3b-12ac-428e-a078-906277074abc",
   "metadata": {
    "tags": []
   },
   "outputs": [
    {
     "data": {
      "text/plain": [
       "\u001b[0;31mOut[0:8]: \u001b[0m<petsc4py.PETSc.Vec at 0x124cb6020>"
      ]
     },
     "metadata": {
      "after": null,
      "completed": null,
      "data": {},
      "engine_id": 0,
      "engine_uuid": "ab8ab8ad-ea13d585d7987ff2f39f3103",
      "error": null,
      "execute_input": "\nimport ufl\n\n# UFL form of right-hand side\nL = ufl.inner(1.0, v) * ufl.dx\nL = dfx.fem.form(L)\n\n# Assemble UFL form into a vector\n_b = dfx.fem.Function(V)\ndfx.fem.petsc.assemble_vector(_b.vector, L)\n",
      "execute_result": {
       "data": {
        "text/plain": "<petsc4py.PETSc.Vec at 0x124cb6020>"
       },
       "execution_count": 8,
       "metadata": {}
      },
      "follow": null,
      "msg_id": null,
      "outputs": [],
      "received": null,
      "started": null,
      "status": null,
      "stderr": "",
      "stdout": "",
      "submitted": "2023-04-17T10:43:51.863477Z"
     },
     "output_type": "display_data"
    },
    {
     "data": {
      "text/plain": [
       "\u001b[0;31mOut[1:8]: \u001b[0m<petsc4py.PETSc.Vec at 0x105c3f650>"
      ]
     },
     "metadata": {
      "after": null,
      "completed": null,
      "data": {},
      "engine_id": 1,
      "engine_uuid": "c786becc-278c25074ac2c61bc33ce670",
      "error": null,
      "execute_input": "\nimport ufl\n\n# UFL form of right-hand side\nL = ufl.inner(1.0, v) * ufl.dx\nL = dfx.fem.form(L)\n\n# Assemble UFL form into a vector\n_b = dfx.fem.Function(V)\ndfx.fem.petsc.assemble_vector(_b.vector, L)\n",
      "execute_result": {
       "data": {
        "text/plain": "<petsc4py.PETSc.Vec at 0x105c3f650>"
       },
       "execution_count": 8,
       "metadata": {}
      },
      "follow": null,
      "msg_id": null,
      "outputs": [],
      "received": null,
      "started": null,
      "status": null,
      "stderr": "",
      "stdout": "",
      "submitted": "2023-04-17T10:43:51.863538Z"
     },
     "output_type": "display_data"
    }
   ],
   "source": [
    "%%px\n",
    "\n",
    "import ufl\n",
    "\n",
    "# UFL form of right-hand side\n",
    "L = ufl.inner(1.0, v) * ufl.dx\n",
    "L = dfx.fem.form(L)\n",
    "\n",
    "# Assemble UFL form into a vector\n",
    "_b = dfx.fem.Function(V)\n",
    "dfx.fem.petsc.assemble_vector(_b.vector, L)"
   ]
  },
  {
   "cell_type": "markdown",
   "id": "f786bfb9-109d-489e-8dba-5bac4638e465",
   "metadata": {},
   "source": [
    "Now, after assembling, it is important to distribute the node values from the different processes. After the initial assembly, our vector holds the values"
   ]
  },
  {
   "cell_type": "code",
   "execution_count": 12,
   "id": "b2a21284-0e1e-4c60-ac48-4018c36e0681",
   "metadata": {
    "tags": []
   },
   "outputs": [
    {
     "data": {
      "text/plain": [
       "[stdout:1] After assembly, prior to communication\n",
       "Rank 1: [0.125      0.125      0.125      0.04166667 0.04166667 0.04166667\n",
       " 0.         0.        ]\n"
      ]
     },
     "metadata": {},
     "output_type": "display_data"
    },
    {
     "data": {
      "text/plain": [
       "[stdout:0] After assembly, prior to communication\n",
       "Rank 0: [0.04166667 0.125      0.125      0.04166667 0.125      0.04166667\n",
       " 0.         0.        ]\n"
      ]
     },
     "metadata": {},
     "output_type": "display_data"
    }
   ],
   "source": [
    "%%px\n",
    "print(\"After assembly, prior to communication\")\n",
    "mpi_print(_b.x.array)"
   ]
  },
  {
   "cell_type": "markdown",
   "id": "b150a3dd-a283-4230-b9a2-f6309836ecd4",
   "metadata": {},
   "source": [
    "First, we well add values from ghost regions and accumulate them on the owning process. To do this, we use the scatter_reverse function with ScatterMode \"add\":"
   ]
  },
  {
   "cell_type": "code",
   "execution_count": 13,
   "id": "e8e1b2fe-944b-4944-970d-908ec9ab068b",
   "metadata": {
    "tags": []
   },
   "outputs": [
    {
     "data": {
      "text/plain": [
       "[stdout:1] After ADD/REVERSE update\n",
       "Rank 1: [0.125      0.25       0.125      0.04166667 0.08333333 0.04166667\n",
       " 0.         0.        ]\n"
      ]
     },
     "metadata": {},
     "output_type": "display_data"
    },
    {
     "data": {
      "text/plain": [
       "[stdout:0] After ADD/REVERSE update\n",
       "Rank 0: [0.08333333 0.125      0.125      0.04166667 0.125      0.04166667\n",
       " 0.         0.        ]\n"
      ]
     },
     "metadata": {},
     "output_type": "display_data"
    }
   ],
   "source": [
    "%%px\n",
    "\n",
    "# Add values from ghost regions and accumulate them on the owning process\n",
    "_b.x.scatter_reverse(dfx.la.ScatterMode.add)\n",
    "\n",
    "print(\"After ADD/REVERSE update\")\n",
    "mpi_print(_b.x.array)   "
   ]
  },
  {
   "cell_type": "markdown",
   "id": "ef61475c-bd55-4852-9182-40eaeb27db99",
   "metadata": {},
   "source": [
    "The ghost nodes are still not updated, and now we must distribute the values from the owning process to the ghost nodes"
   ]
  },
  {
   "cell_type": "code",
   "execution_count": 14,
   "id": "6f7059a8-e73c-49d7-8b0c-417f80a8f065",
   "metadata": {
    "tags": []
   },
   "outputs": [
    {
     "data": {
      "text/plain": [
       "[stdout:1] After INSERT/FORWARD update\n",
       "Rank 1: [0.125      0.25       0.125      0.04166667 0.08333333 0.08333333\n",
       " 0.125      0.125     ]\n"
      ]
     },
     "metadata": {},
     "output_type": "display_data"
    },
    {
     "data": {
      "text/plain": [
       "[stdout:0] After INSERT/FORWARD update\n",
       "Rank 0: [0.08333333 0.125      0.125      0.04166667 0.25       0.08333333\n",
       " 0.125      0.125     ]\n"
      ]
     },
     "metadata": {},
     "output_type": "display_data"
    }
   ],
   "source": [
    "%%px\n",
    "\n",
    "# Get value from owning process and update the ghosts\n",
    "_b.x.scatter_forward()\n",
    "\n",
    "print(\"After INSERT/FORWARD update\")\n",
    "mpi_print(_b.x.array)"
   ]
  },
  {
   "cell_type": "markdown",
   "id": "19e3497a-5879-4bc9-9e55-ed8efbacb483",
   "metadata": {},
   "source": [
    "The same procedures apply to assembly of scalars and matrices. Now, we will look at how we can combine what we have learnt and use it all to solve a variational problem derived from a partial differential equation (PDE)."
   ]
  },
  {
   "cell_type": "markdown",
   "id": "8d082121-d6c1-4e77-8e6d-58bfd2817fe9",
   "metadata": {},
   "source": [
    "## Putting it all together: Solving a variational problem\n",
    "We will consider solving a Poisson problem on the unit square domain, denoted $\\Omega$. The strong form of the problem is: determine $u$ such that\n",
    "\\begin{align}\n",
    "    -\\nabla^2 u &= f \\quad \\mathrm{in} \\ \\Omega, \\\\\n",
    "    u &= g \\quad \\mathrm{on} \\ \\partial\\Omega,\n",
    "\\end{align}\n",
    "where $\\partial\\Omega$ is the boundary of the domain. The weak form of the problem is derived by multiplying the PDE with a test function $v$, integrating over the domain and applying integration by parts. This yields\n",
    "\n",
    "\\begin{equation}\n",
    "    \\int_{\\Omega} \\nabla u \\cdot \\nabla v dx = \\int_{\\Omega}f v dx\n",
    "\\end{equation}\n",
    "\n",
    "where the boundary integral vanishes because $v = 0$ on the boundary due to the Dirichlet boundary condition. For simplicity we set $g = 0$.\n",
    "\n",
    "The finite element problem can now be defined as: find $u_h \\in V_h$ such that\n",
    "\\begin{equation}\n",
    "    a(u_h, v_h) = L(v_h), \\forall \\ v_h \\in V_h,\n",
    "\\end{equation}\n",
    "where $V_h$ is the finite element space and\n",
    "\\begin{equation}\n",
    "    a(u, v) = \\int_{\\Omega} \\nabla u \\cdot \\nabla v dx\n",
    "\\end{equation}\n",
    "and\n",
    "\\begin{equation}\n",
    "    L(v) = \\int_{\\Omega}f v dx.\n",
    "\\end{equation}\n",
    "\n",
    "The subscript $h$ emphasizes that the variables are defined on a discrete mesh.\n",
    "\n",
    "PETSc is the linear algebra backend used for solving the linear system of equations that defines the weak form. For more information on the Krylov solver used here and its options, see: https://petsc.org/release/.\n",
    "\n",
    "To visualize the solution, we use pyvista (https://docs.pyvista.org/). For a simple introduction to defining and solving variational problems with FEniCSx, see https://jsdokken.com/dolfinx-tutorial/.\n",
    "\n",
    "We start by import PETSc and pyvista and create a mesh:"
   ]
  },
  {
   "cell_type": "code",
   "execution_count": 26,
   "id": "1bd0b245-b1e4-4d1f-9e11-a12e652a4bcb",
   "metadata": {
    "tags": []
   },
   "outputs": [
    {
     "name": "stderr",
     "output_type": "stream",
     "text": [
      "[0:execute]\n",
      "\u001b[0;31m---------------------------------------------------------------------------\u001b[0m\n",
      "\u001b[0;31mOSError\u001b[0m                                   Traceback (most recent call last)\n",
      "Cell \u001b[0;32mIn[22], line 4\u001b[0m\n",
      "\u001b[1;32m      2\u001b[0m \u001b[38;5;28;01mfrom\u001b[39;00m \u001b[38;5;21;01mpetsc4py\u001b[39;00m \u001b[38;5;28;01mimport\u001b[39;00m PETSc\n",
      "\u001b[1;32m      3\u001b[0m \u001b[38;5;28;01mimport\u001b[39;00m \u001b[38;5;21;01mpyvista\u001b[39;00m \u001b[38;5;28;01mas\u001b[39;00m \u001b[38;5;21;01mpv\u001b[39;00m\n",
      "\u001b[0;32m----> 4\u001b[0m \u001b[43mpv\u001b[49m\u001b[38;5;241;43m.\u001b[39;49m\u001b[43mstart_xvfb\u001b[49m\u001b[43m(\u001b[49m\u001b[43m)\u001b[49m\n",
      "\u001b[1;32m      5\u001b[0m comm \u001b[38;5;241m=\u001b[39m MPI\u001b[38;5;241m.\u001b[39mCOMM_WORLD \u001b[38;5;66;03m# MPI communicator\u001b[39;00m\n",
      "\u001b[1;32m      7\u001b[0m Nx, Ny \u001b[38;5;241m=\u001b[39m \u001b[38;5;241m2\u001b[39m, \u001b[38;5;241m2\u001b[39m \u001b[38;5;66;03m# Mesh size\u001b[39;00m\n",
      "\n",
      "File \u001b[0;32m/opt/anaconda3/envs/fenicsx/lib/python3.10/site-packages/pyvista/utilities/xvfb.py:47\u001b[0m, in \u001b[0;36mstart_xvfb\u001b[0;34m(wait, window_size)\u001b[0m\n",
      "\u001b[1;32m     44\u001b[0m     \u001b[38;5;28;01mraise\u001b[39;00m \u001b[38;5;167;01mOSError\u001b[39;00m(\u001b[38;5;124m'\u001b[39m\u001b[38;5;124m`start_xvfb` is only supported on Linux\u001b[39m\u001b[38;5;124m'\u001b[39m)\n",
      "\u001b[1;32m     46\u001b[0m \u001b[38;5;28;01mif\u001b[39;00m os\u001b[38;5;241m.\u001b[39msystem(\u001b[38;5;124m'\u001b[39m\u001b[38;5;124mwhich Xvfb > /dev/null\u001b[39m\u001b[38;5;124m'\u001b[39m):\n",
      "\u001b[0;32m---> 47\u001b[0m     \u001b[38;5;28;01mraise\u001b[39;00m \u001b[38;5;167;01mOSError\u001b[39;00m(XVFB_INSTALL_NOTES)\n",
      "\u001b[1;32m     49\u001b[0m \u001b[38;5;66;03m# use current default window size\u001b[39;00m\n",
      "\u001b[1;32m     50\u001b[0m \u001b[38;5;28;01mif\u001b[39;00m window_size \u001b[38;5;129;01mis\u001b[39;00m \u001b[38;5;28;01mNone\u001b[39;00m:\n",
      "\n",
      "\u001b[0;31mOSError\u001b[0m: Please install Xvfb with:\n",
      "\n",
      "Debian\n",
      "$ sudo apt install libgl1-mesa-glx xvfb\n",
      "\n",
      "CentOS / RHL\n",
      "$ sudo yum install libgl1-mesa-glx xvfb\n",
      "\n",
      "[1:execute]\n",
      "\u001b[0;31m---------------------------------------------------------------------------\u001b[0m\n",
      "\u001b[0;31mOSError\u001b[0m                                   Traceback (most recent call last)\n",
      "Cell \u001b[0;32mIn[22], line 4\u001b[0m\n",
      "\u001b[1;32m      2\u001b[0m \u001b[38;5;28;01mfrom\u001b[39;00m \u001b[38;5;21;01mpetsc4py\u001b[39;00m \u001b[38;5;28;01mimport\u001b[39;00m PETSc\n",
      "\u001b[1;32m      3\u001b[0m \u001b[38;5;28;01mimport\u001b[39;00m \u001b[38;5;21;01mpyvista\u001b[39;00m \u001b[38;5;28;01mas\u001b[39;00m \u001b[38;5;21;01mpv\u001b[39;00m\n",
      "\u001b[0;32m----> 4\u001b[0m \u001b[43mpv\u001b[49m\u001b[38;5;241;43m.\u001b[39;49m\u001b[43mstart_xvfb\u001b[49m\u001b[43m(\u001b[49m\u001b[43m)\u001b[49m\n",
      "\u001b[1;32m      5\u001b[0m comm \u001b[38;5;241m=\u001b[39m MPI\u001b[38;5;241m.\u001b[39mCOMM_WORLD \u001b[38;5;66;03m# MPI communicator\u001b[39;00m\n",
      "\u001b[1;32m      7\u001b[0m Nx, Ny \u001b[38;5;241m=\u001b[39m \u001b[38;5;241m2\u001b[39m, \u001b[38;5;241m2\u001b[39m \u001b[38;5;66;03m# Mesh size\u001b[39;00m\n",
      "\n",
      "File \u001b[0;32m/opt/anaconda3/envs/fenicsx/lib/python3.10/site-packages/pyvista/utilities/xvfb.py:47\u001b[0m, in \u001b[0;36mstart_xvfb\u001b[0;34m(wait, window_size)\u001b[0m\n",
      "\u001b[1;32m     44\u001b[0m     \u001b[38;5;28;01mraise\u001b[39;00m \u001b[38;5;167;01mOSError\u001b[39;00m(\u001b[38;5;124m'\u001b[39m\u001b[38;5;124m`start_xvfb` is only supported on Linux\u001b[39m\u001b[38;5;124m'\u001b[39m)\n",
      "\u001b[1;32m     46\u001b[0m \u001b[38;5;28;01mif\u001b[39;00m os\u001b[38;5;241m.\u001b[39msystem(\u001b[38;5;124m'\u001b[39m\u001b[38;5;124mwhich Xvfb > /dev/null\u001b[39m\u001b[38;5;124m'\u001b[39m):\n",
      "\u001b[0;32m---> 47\u001b[0m     \u001b[38;5;28;01mraise\u001b[39;00m \u001b[38;5;167;01mOSError\u001b[39;00m(XVFB_INSTALL_NOTES)\n",
      "\u001b[1;32m     49\u001b[0m \u001b[38;5;66;03m# use current default window size\u001b[39;00m\n",
      "\u001b[1;32m     50\u001b[0m \u001b[38;5;28;01mif\u001b[39;00m window_size \u001b[38;5;129;01mis\u001b[39;00m \u001b[38;5;28;01mNone\u001b[39;00m:\n",
      "\n",
      "\u001b[0;31mOSError\u001b[0m: Please install Xvfb with:\n",
      "\n",
      "Debian\n",
      "$ sudo apt install libgl1-mesa-glx xvfb\n",
      "\n",
      "CentOS / RHL\n",
      "$ sudo yum install libgl1-mesa-glx xvfb\n",
      "\n"
     ]
    },
    {
     "ename": "AlreadyDisplayedError",
     "evalue": "2 errors",
     "output_type": "error",
     "traceback": [
      "2 errors"
     ]
    }
   ],
   "source": [
    "%%px\n",
    "\n",
    "import ufl\n",
    "from petsc4py import PETSc\n",
    "import pyvista as pv\n",
    "pv.start_xvfb()\n",
    "comm = MPI.COMM_WORLD # MPI communicator\n",
    "\n",
    "Nx, Ny = 2, 2 # Mesh size\n",
    "\n",
    "# Create a unit square mesh\n",
    "mesh = dfx.mesh.create_unit_square(comm, Nx, Ny, ghost_mode = dfx.cpp.mesh.GhostMode.none)"
   ]
  },
  {
   "cell_type": "markdown",
   "id": "0fbe292a-abd2-4cfe-8c9d-c349d5a076f4",
   "metadata": {},
   "source": [
    "For this problem, we are going to define boundary conditions on the boundaries of the domains, i.e. the facets of the mesh. We therefore need to create these entities (which are of dimension 1 less than the mesh dimension), as well as the connectivity between the facets and the cells (which are of dimension equal to the mesh dimension)."
   ]
  },
  {
   "cell_type": "code",
   "execution_count": 16,
   "id": "c0b6c0e2-c61d-41de-9ac9-cc65c7312eae",
   "metadata": {
    "tags": []
   },
   "outputs": [],
   "source": [
    "%%px\n",
    "\n",
    "# Create mesh facet entities and conncectivity between facets and cells\n",
    "mesh.topology.create_entities(mesh.topology.dim - 1)\n",
    "mesh.topology.create_connectivity(mesh.topology.dim - 1, mesh.topology.dim)"
   ]
  },
  {
   "cell_type": "markdown",
   "id": "b5274304-f3cf-40c4-8a0b-a6b9ae1b2d2e",
   "metadata": {},
   "source": [
    "Next, we define our finite element space $V_h$. Here, we choose the space of first order (linear) continuous Lagrange elements. We create trial and test functions, as well as a function for storing the solution from our space."
   ]
  },
  {
   "cell_type": "code",
   "execution_count": 17,
   "id": "e367aa2a-2470-4e6b-b004-c1cf05ebf44f",
   "metadata": {
    "tags": []
   },
   "outputs": [],
   "source": [
    "%%px\n",
    "\n",
    "# Create a first-order Lagrange finite element space\n",
    "V = dfx.fem.FunctionSpace(mesh, (\"Lagrange\", 1))\n",
    "\n",
    "# Trial and test functions\n",
    "u = ufl.TrialFunction(V)\n",
    "v = ufl.TestFunction (V)\n",
    "\n",
    "u_h = dfx.fem.Function(V) # Solution function"
   ]
  },
  {
   "cell_type": "markdown",
   "id": "7e8af428-4f87-48f7-839b-33017731a814",
   "metadata": {},
   "source": [
    "In this problem we will set the source term function $f = 1$ in the entire domain. With this, we are ready to define the bilinear and linear forms:"
   ]
  },
  {
   "cell_type": "code",
   "execution_count": 18,
   "id": "b23e1a12-a624-4fe3-91ea-55ec93be5180",
   "metadata": {
    "tags": []
   },
   "outputs": [],
   "source": [
    "%%px\n",
    "\n",
    "f = dfx.fem.Constant(mesh, PETSc.ScalarType(1.0)) # Constant source term f = 1\n",
    "\n",
    "# UFL form of the bilinear form\n",
    "a = ufl.inner(ufl.grad(u), ufl.grad(v)) * ufl.dx\n",
    "bilinear_form = dfx.fem.form(a)\n",
    "\n",
    "# UFL form of right-hand side\n",
    "L = f * v * ufl.dx\n",
    "linear_form = dfx.fem.form(L)"
   ]
  },
  {
   "cell_type": "markdown",
   "id": "f4c5d823-bf6b-4423-846d-d310c2115b30",
   "metadata": {},
   "source": [
    "The last thing that remains before we can assemble our system of equations is to define our boundary conditions. The following code creates a function $g = 0$, finds the degrees of freedom corresponding to the boundary facets of the mesh and uses these to create a Dirichlet boundary condition object."
   ]
  },
  {
   "cell_type": "code",
   "execution_count": 19,
   "id": "d1578746-f56d-49b0-8c3a-5509e395b54e",
   "metadata": {
    "tags": []
   },
   "outputs": [],
   "source": [
    "%%px\n",
    "\n",
    "# Boundary condition function\n",
    "g = dfx.fem.Function(V) # Dolfinx function, default function value = 0\n",
    "\n",
    "# Get the dofs of the boundary facets\n",
    "boundary_facets = dfx.mesh.exterior_facet_indices(mesh.topology)\n",
    "boundary_dofs   = dfx.fem.locate_dofs_topological(V, mesh.topology.dim - 1, boundary_facets)\n",
    "bc_g = dfx.fem.dirichletbc(g, boundary_dofs)\n",
    "\n",
    "bcs = [bc_g]"
   ]
  },
  {
   "cell_type": "markdown",
   "id": "fbf8203d-1385-4ec7-8d1a-40027e793809",
   "metadata": {},
   "source": [
    "Now we are ready to assemble the matrix and vectors of our system:"
   ]
  },
  {
   "cell_type": "code",
   "execution_count": 20,
   "id": "92f21316-ab63-444e-81de-92c16923df8a",
   "metadata": {
    "tags": []
   },
   "outputs": [
    {
     "data": {
      "text/plain": [
       "[stdout:0] Rank 0: [0.         0.         0.         0.         0.25       0.08333333]\n"
      ]
     },
     "metadata": {},
     "output_type": "display_data"
    },
    {
     "data": {
      "text/plain": [
       "[stdout:1] Rank 1: [0.         0.25       0.         0.         0.         0.08333333]\n"
      ]
     },
     "metadata": {},
     "output_type": "display_data"
    }
   ],
   "source": [
    "%%px\n",
    "\n",
    "# Assemble matrix from the bilinear form\n",
    "A = dfx.fem.petsc.assemble_matrix(bilinear_form, bcs = bcs)\n",
    "A.assemble()\n",
    "\n",
    "# Assemble UFL form into a vector\n",
    "_b = dfx.fem.Function(V) # Dolfinx function of right-hand side\n",
    "dfx.fem.petsc.assemble_vector(_b.vector, linear_form)\n",
    "dfx.fem.petsc.apply_lifting(_b.vector, [bilinear_form], bcs = [bcs])\n",
    "_b.x.scatter_reverse(dfx.la.ScatterMode.add)\n",
    "_b.x.scatter_forward()\n",
    "dfx.fem.petsc.set_bc(_b.vector, bcs = bcs)\n",
    "mpi_print(_b.x.array)"
   ]
  },
  {
   "cell_type": "markdown",
   "id": "b5afc3a3-6cc6-476a-8577-c06a7d9e103e",
   "metadata": {},
   "source": [
    "Note the use of apply_lifting and scatter_reverse/scatter_forward before using set_bc. This is important to not lose any information due to lack of communication between the processors running in parallel.\n",
    "\n",
    "To solve the problem, we will use a direct Krylov solver with LU decomposition as preconditioner. MUMPS is used as the factor solver type."
   ]
  },
  {
   "cell_type": "code",
   "execution_count": 21,
   "id": "be89390b-ca0c-4b47-b3d3-bdab4a9f6ec3",
   "metadata": {
    "tags": []
   },
   "outputs": [],
   "source": [
    "%%px\n",
    "\n",
    "# Create a (direct) linear solver\n",
    "solver = PETSc.KSP().create(mesh.comm)\n",
    "solver.setOperators(A)\n",
    "solver.setType(\"preonly\")\n",
    "solver.getPC().setType(\"lu\")\n",
    "solver.getPC().setFactorSolverType(\"mumps\")"
   ]
  },
  {
   "cell_type": "markdown",
   "id": "7569e7c1-af4e-46d9-93b2-71b3a06963cb",
   "metadata": {},
   "source": [
    "The solution is acquired by running"
   ]
  },
  {
   "cell_type": "code",
   "execution_count": 22,
   "id": "65d71d42-60b9-499c-ad92-0554b15f6ed7",
   "metadata": {
    "tags": []
   },
   "outputs": [],
   "source": [
    "%%px\n",
    "\n",
    "solver.solve(_b.vector, u_h.vector)"
   ]
  },
  {
   "cell_type": "markdown",
   "id": "7009aad7-a6e2-47ee-9b42-330ef893e18c",
   "metadata": {},
   "source": [
    "After solving the system of equations in parallel, it is important to use scatter_forward() to distribute the information from the owning processes to their ghost nodes."
   ]
  },
  {
   "cell_type": "code",
   "execution_count": 23,
   "id": "6fe0266f-7b4f-466f-9350-44c7c54d09d5",
   "metadata": {
    "tags": []
   },
   "outputs": [
    {
     "data": {
      "text/plain": [
       "[stdout:1] Prior to communication\n",
       "Rank 1: [0.     0.0625 0.     0.     0.     0.    ]\n",
       "After scatter_forward() update\n",
       "Rank: 1: [0.     0.0625 0.     0.     0.     0.    ]\n"
      ]
     },
     "metadata": {},
     "output_type": "display_data"
    },
    {
     "data": {
      "text/plain": [
       "[stdout:0] Prior to communication\n",
       "Rank 0: [0. 0. 0. 0. 0. 0.]\n",
       "After scatter_forward() update\n",
       "Rank: 0: [0.     0.     0.     0.     0.0625 0.    ]\n"
      ]
     },
     "metadata": {},
     "output_type": "display_data"
    }
   ],
   "source": [
    "%%px\n",
    "\n",
    "print(\"Prior to communication\")\n",
    "mpi_print(u_h.x.array)   \n",
    "\n",
    "# Get value from owning process and update the ghosts\n",
    "u_h.x.scatter_forward()\n",
    "\n",
    "print(\"After scatter_forward() update\")\n",
    "print(f\"Rank: {comm.rank}: {u_h.x.array}\")   "
   ]
  },
  {
   "cell_type": "markdown",
   "id": "a5c4c42b-d300-4788-927e-6499a4dbf9dc",
   "metadata": {},
   "source": [
    "The following code visualizes with pyvista the solutions calculated on the two individual processes."
   ]
  },
  {
   "cell_type": "code",
   "execution_count": 24,
   "id": "66f36a31-9ca7-404d-ab08-d0a6cd13a283",
   "metadata": {
    "tags": []
   },
   "outputs": [
    {
     "data": {
      "text/plain": [
       "[output:1]"
      ]
     },
     "metadata": {},
     "output_type": "display_data"
    },
    {
     "data": {
      "application/vnd.jupyter.widget-view+json": {
       "model_id": "94aeb5b8783d441f8ef39c0f2a7c25b0",
       "version_major": 2,
       "version_minor": 0
      },
      "text/plain": [
       "ViewInteractiveWidget(height=768, layout=Layout(height='auto', width='100%'), width=1024)"
      ]
     },
     "metadata": {
      "engine": 1
     },
     "output_type": "display_data"
    },
    {
     "data": {
      "text/plain": [
       "[output:0]"
      ]
     },
     "metadata": {},
     "output_type": "display_data"
    },
    {
     "data": {
      "application/vnd.jupyter.widget-view+json": {
       "model_id": "410bb76c0cbf4e62a9853a7721f2d6a1",
       "version_major": 2,
       "version_minor": 0
      },
      "text/plain": [
       "ViewInteractiveWidget(height=768, layout=Layout(height='auto', width='100%'), width=1024)"
      ]
     },
     "metadata": {
      "engine": 0
     },
     "output_type": "display_data"
    }
   ],
   "source": [
    "%%px\n",
    "\n",
    "# Visualize the solution\n",
    "topology, cell_types, x = dfx.plot.create_vtk_mesh(V)\n",
    "grid = pv.UnstructuredGrid(topology, cell_types, x)\n",
    "\n",
    "# Set output data\n",
    "grid.point_data[\"u\"] = u_h.x.array.real\n",
    "grid.set_active_scalars(\"u\")\n",
    "\n",
    "# Create a pyvista plotter object and plot the datagrid\n",
    "pl = pv.Plotter()\n",
    "pl.add_text(f\"Rank: {comm.rank}\", font_size = 12)\n",
    "pl.add_mesh(grid)\n",
    "pl.show()"
   ]
  },
  {
   "cell_type": "code",
   "execution_count": 25,
   "id": "1cb52086-b014-4ab3-8e6d-09f71eb2bb99",
   "metadata": {},
   "outputs": [
    {
     "name": "stdout",
     "output_type": "stream",
     "text": [
      "Stopping controller\n",
      "Controller stopped: {'exit_code': 0, 'pid': 45557, 'identifier': 'ipcontroller-1681728224-si4p-45405'}\n",
      "Stopping engine(s): 1681728225\n",
      "engine set stopped 1681728225: {'exit_code': 0, 'pid': 45571, 'identifier': 'ipengine-1681728224-si4p-1681728225-45405'}\n"
     ]
    }
   ],
   "source": [
    "# Stop the cluster\n",
    "rc.cluster.stop_cluster_sync()"
   ]
  },
  {
   "cell_type": "code",
   "execution_count": null,
   "id": "e7d00d30-187b-4e6d-801a-2fc663de7425",
   "metadata": {},
   "outputs": [],
   "source": []
  }
 ],
 "metadata": {
  "kernelspec": {
   "display_name": "Python 3 (ipykernel)",
   "language": "python",
   "name": "python3"
  },
  "language_info": {
   "codemirror_mode": {
    "name": "ipython",
    "version": 3
   },
   "file_extension": ".py",
   "mimetype": "text/x-python",
   "name": "python",
   "nbconvert_exporter": "python",
   "pygments_lexer": "ipython3",
   "version": "3.10.7"
  }
 },
 "nbformat": 4,
 "nbformat_minor": 5
}
